{
 "cells": [
  {
   "cell_type": "code",
   "execution_count": 1,
   "metadata": {},
   "outputs": [],
   "source": [
    "%load_ext autoreload\n",
    "%autoreload 2"
   ]
  },
  {
   "cell_type": "code",
   "execution_count": 2,
   "metadata": {},
   "outputs": [
    {
     "name": "stderr",
     "output_type": "stream",
     "text": [
      "WARNING (theano.configdefaults): g++ not available, if using conda: `conda install m2w64-toolchain`\n",
      "WARNING (theano.configdefaults): g++ not detected ! Theano will be unable to execute optimized C-implementations (for both CPU and GPU) and will default to Python implementations. Performance will be severely degraded. To remove this warning, set Theano flags cxx to an empty string.\n",
      "WARNING (theano.tensor.blas): Using NumPy C-API based implementation for BLAS functions.\n"
     ]
    }
   ],
   "source": [
    "import numpy as np\n",
    "from scipy.stats import multivariate_normal as mvnorm\n",
    "from scipy.stats import uniform, invgamma, bernoulli, poisson, norm\n",
    "import statsmodels.api as sm\n",
    "import pandas as pd\n",
    "from src.preprocessing import prepare_data, prepare_data_no_standardizing, MAR_data_deletion\n",
    "from src.model_code import Gibbs_MH\n",
    "import pymc3 as pm\n",
    "import arviz as az\n",
    "from statsmodels.tsa.stattools import acf \n",
    "import matplotlib.pyplot as plt\n",
    "\n",
    "import warnings\n",
    "warnings.filterwarnings('ignore')\n",
    "warnings.simplefilter('ignore')"
   ]
  },
  {
   "cell_type": "code",
   "execution_count": 3,
   "metadata": {},
   "outputs": [
    {
     "data": {
      "text/html": [
       "<div>\n",
       "<style scoped>\n",
       "    .dataframe tbody tr th:only-of-type {\n",
       "        vertical-align: middle;\n",
       "    }\n",
       "\n",
       "    .dataframe tbody tr th {\n",
       "        vertical-align: top;\n",
       "    }\n",
       "\n",
       "    .dataframe thead th {\n",
       "        text-align: right;\n",
       "    }\n",
       "</style>\n",
       "<table border=\"1\" class=\"dataframe\">\n",
       "  <thead>\n",
       "    <tr style=\"text-align: right;\">\n",
       "      <th></th>\n",
       "      <th>age</th>\n",
       "      <th>sex</th>\n",
       "      <th>failures</th>\n",
       "      <th>higher</th>\n",
       "      <th>Medu</th>\n",
       "      <th>absences</th>\n",
       "      <th>G2</th>\n",
       "      <th>G3</th>\n",
       "    </tr>\n",
       "  </thead>\n",
       "  <tbody>\n",
       "    <tr>\n",
       "      <th>0</th>\n",
       "      <td>18</td>\n",
       "      <td>F</td>\n",
       "      <td>0</td>\n",
       "      <td>yes</td>\n",
       "      <td>4</td>\n",
       "      <td>6</td>\n",
       "      <td>6</td>\n",
       "      <td>6</td>\n",
       "    </tr>\n",
       "    <tr>\n",
       "      <th>1</th>\n",
       "      <td>17</td>\n",
       "      <td>F</td>\n",
       "      <td>0</td>\n",
       "      <td>yes</td>\n",
       "      <td>1</td>\n",
       "      <td>4</td>\n",
       "      <td>5</td>\n",
       "      <td>6</td>\n",
       "    </tr>\n",
       "    <tr>\n",
       "      <th>2</th>\n",
       "      <td>15</td>\n",
       "      <td>F</td>\n",
       "      <td>3</td>\n",
       "      <td>yes</td>\n",
       "      <td>1</td>\n",
       "      <td>10</td>\n",
       "      <td>8</td>\n",
       "      <td>10</td>\n",
       "    </tr>\n",
       "    <tr>\n",
       "      <th>3</th>\n",
       "      <td>15</td>\n",
       "      <td>F</td>\n",
       "      <td>0</td>\n",
       "      <td>yes</td>\n",
       "      <td>4</td>\n",
       "      <td>2</td>\n",
       "      <td>14</td>\n",
       "      <td>15</td>\n",
       "    </tr>\n",
       "    <tr>\n",
       "      <th>4</th>\n",
       "      <td>16</td>\n",
       "      <td>F</td>\n",
       "      <td>0</td>\n",
       "      <td>yes</td>\n",
       "      <td>3</td>\n",
       "      <td>4</td>\n",
       "      <td>10</td>\n",
       "      <td>10</td>\n",
       "    </tr>\n",
       "  </tbody>\n",
       "</table>\n",
       "</div>"
      ],
      "text/plain": [
       "   age sex  failures higher  Medu  absences  G2  G3\n",
       "0   18   F         0    yes     4         6   6   6\n",
       "1   17   F         0    yes     1         4   5   6\n",
       "2   15   F         3    yes     1        10   8  10\n",
       "3   15   F         0    yes     4         2  14  15\n",
       "4   16   F         0    yes     3         4  10  10"
      ]
     },
     "execution_count": 3,
     "metadata": {},
     "output_type": "execute_result"
    }
   ],
   "source": [
    "df = pd.read_csv('student-mat.csv', sep=\",\")\n",
    "features = [\"age\", \"sex\", \"failures\", \"higher\", \"Medu\", \n",
    "            \"absences\", \"G2\", \"G3\"]\n",
    "df = df[features]\n",
    "df.head()"
   ]
  },
  {
   "cell_type": "code",
   "execution_count": 4,
   "metadata": {},
   "outputs": [
    {
     "data": {
      "text/html": [
       "<div>\n",
       "<style scoped>\n",
       "    .dataframe tbody tr th:only-of-type {\n",
       "        vertical-align: middle;\n",
       "    }\n",
       "\n",
       "    .dataframe tbody tr th {\n",
       "        vertical-align: top;\n",
       "    }\n",
       "\n",
       "    .dataframe thead th {\n",
       "        text-align: right;\n",
       "    }\n",
       "</style>\n",
       "<table border=\"1\" class=\"dataframe\">\n",
       "  <thead>\n",
       "    <tr style=\"text-align: right;\">\n",
       "      <th></th>\n",
       "      <th>age</th>\n",
       "      <th>failures</th>\n",
       "      <th>Medu</th>\n",
       "      <th>absences</th>\n",
       "      <th>G2</th>\n",
       "      <th>sex_M</th>\n",
       "      <th>higher_yes</th>\n",
       "      <th>intercept</th>\n",
       "    </tr>\n",
       "  </thead>\n",
       "  <tbody>\n",
       "    <tr>\n",
       "      <th>0</th>\n",
       "      <td>18</td>\n",
       "      <td>0</td>\n",
       "      <td>4</td>\n",
       "      <td>6</td>\n",
       "      <td>6</td>\n",
       "      <td>0</td>\n",
       "      <td>1</td>\n",
       "      <td>1</td>\n",
       "    </tr>\n",
       "    <tr>\n",
       "      <th>1</th>\n",
       "      <td>17</td>\n",
       "      <td>0</td>\n",
       "      <td>1</td>\n",
       "      <td>4</td>\n",
       "      <td>5</td>\n",
       "      <td>0</td>\n",
       "      <td>1</td>\n",
       "      <td>1</td>\n",
       "    </tr>\n",
       "    <tr>\n",
       "      <th>2</th>\n",
       "      <td>15</td>\n",
       "      <td>3</td>\n",
       "      <td>1</td>\n",
       "      <td>10</td>\n",
       "      <td>8</td>\n",
       "      <td>0</td>\n",
       "      <td>1</td>\n",
       "      <td>1</td>\n",
       "    </tr>\n",
       "    <tr>\n",
       "      <th>3</th>\n",
       "      <td>15</td>\n",
       "      <td>0</td>\n",
       "      <td>4</td>\n",
       "      <td>2</td>\n",
       "      <td>14</td>\n",
       "      <td>0</td>\n",
       "      <td>1</td>\n",
       "      <td>1</td>\n",
       "    </tr>\n",
       "    <tr>\n",
       "      <th>4</th>\n",
       "      <td>16</td>\n",
       "      <td>0</td>\n",
       "      <td>3</td>\n",
       "      <td>4</td>\n",
       "      <td>10</td>\n",
       "      <td>0</td>\n",
       "      <td>1</td>\n",
       "      <td>1</td>\n",
       "    </tr>\n",
       "  </tbody>\n",
       "</table>\n",
       "</div>"
      ],
      "text/plain": [
       "   age  failures  Medu  absences  G2  sex_M  higher_yes  intercept\n",
       "0   18         0     4         6   6      0           1          1\n",
       "1   17         0     1         4   5      0           1          1\n",
       "2   15         3     1        10   8      0           1          1\n",
       "3   15         0     4         2  14      0           1          1\n",
       "4   16         0     3         4  10      0           1          1"
      ]
     },
     "execution_count": 4,
     "metadata": {},
     "output_type": "execute_result"
    }
   ],
   "source": [
    "X_df, y_df = prepare_data_no_standardizing(df)\n",
    "X_df.head()"
   ]
  },
  {
   "cell_type": "code",
   "execution_count": 52,
   "metadata": {},
   "outputs": [],
   "source": [
    "import statsmodels.api as sm"
   ]
  },
  {
   "cell_type": "code",
   "execution_count": 86,
   "metadata": {},
   "outputs": [],
   "source": [
    "gamma_reg = sm.GLS( X_df['higher_yes'], X_df[['intercept', 'age']], family=sm.families.Binomial())\n",
    "gamma_res =gamma_reg.fit()"
   ]
  },
  {
   "cell_type": "code",
   "execution_count": 90,
   "metadata": {},
   "outputs": [
    {
     "data": {
      "text/plain": [
       "array([ 1.5499191 , -0.03596938])"
      ]
     },
     "execution_count": 90,
     "metadata": {},
     "output_type": "execute_result"
    }
   ],
   "source": [
    "gamma_res.params.values"
   ]
  },
  {
   "cell_type": "code",
   "execution_count": 88,
   "metadata": {},
   "outputs": [
    {
     "data": {
      "text/html": [
       "<div>\n",
       "<style scoped>\n",
       "    .dataframe tbody tr th:only-of-type {\n",
       "        vertical-align: middle;\n",
       "    }\n",
       "\n",
       "    .dataframe tbody tr th {\n",
       "        vertical-align: top;\n",
       "    }\n",
       "\n",
       "    .dataframe thead th {\n",
       "        text-align: right;\n",
       "    }\n",
       "</style>\n",
       "<table border=\"1\" class=\"dataframe\">\n",
       "  <thead>\n",
       "    <tr style=\"text-align: right;\">\n",
       "      <th></th>\n",
       "      <th>intercept</th>\n",
       "      <th>age</th>\n",
       "    </tr>\n",
       "  </thead>\n",
       "  <tbody>\n",
       "    <tr>\n",
       "      <th>intercept</th>\n",
       "      <td>0.020193</td>\n",
       "      <td>-0.001202</td>\n",
       "    </tr>\n",
       "    <tr>\n",
       "      <th>age</th>\n",
       "      <td>-0.001202</td>\n",
       "      <td>0.000072</td>\n",
       "    </tr>\n",
       "  </tbody>\n",
       "</table>\n",
       "</div>"
      ],
      "text/plain": [
       "           intercept       age\n",
       "intercept   0.020193 -0.001202\n",
       "age        -0.001202  0.000072"
      ]
     },
     "execution_count": 88,
     "metadata": {},
     "output_type": "execute_result"
    }
   ],
   "source": [
    "gamma_res.cov_params()"
   ]
  },
  {
   "cell_type": "code",
   "execution_count": 78,
   "metadata": {},
   "outputs": [
    {
     "data": {
      "text/plain": [
       "matrix([[ 0.00155874, -0.02602502],\n",
       "        [-0.02602502,  0.43705063]])"
      ]
     },
     "execution_count": 78,
     "metadata": {},
     "output_type": "execute_result"
    }
   ],
   "source": [
    "mat = np.matrix(X_df[['age', 'intercept']])\n",
    "(mat.T*mat).I"
   ]
  },
  {
   "cell_type": "code",
   "execution_count": 91,
   "metadata": {
    "scrolled": true
   },
   "outputs": [
    {
     "data": {
      "text/html": [
       "<div>\n",
       "<style scoped>\n",
       "    .dataframe tbody tr th:only-of-type {\n",
       "        vertical-align: middle;\n",
       "    }\n",
       "\n",
       "    .dataframe tbody tr th {\n",
       "        vertical-align: top;\n",
       "    }\n",
       "\n",
       "    .dataframe thead th {\n",
       "        text-align: right;\n",
       "    }\n",
       "</style>\n",
       "<table border=\"1\" class=\"dataframe\">\n",
       "  <thead>\n",
       "    <tr style=\"text-align: right;\">\n",
       "      <th></th>\n",
       "      <th>age</th>\n",
       "      <th>failures</th>\n",
       "      <th>Medu</th>\n",
       "      <th>absences</th>\n",
       "      <th>G2</th>\n",
       "      <th>sex_M</th>\n",
       "      <th>higher_yes</th>\n",
       "      <th>intercept</th>\n",
       "    </tr>\n",
       "  </thead>\n",
       "  <tbody>\n",
       "    <tr>\n",
       "      <th>0</th>\n",
       "      <td>18</td>\n",
       "      <td>0</td>\n",
       "      <td>4</td>\n",
       "      <td>6</td>\n",
       "      <td>6.0</td>\n",
       "      <td>0</td>\n",
       "      <td>1.0</td>\n",
       "      <td>1</td>\n",
       "    </tr>\n",
       "    <tr>\n",
       "      <th>1</th>\n",
       "      <td>17</td>\n",
       "      <td>0</td>\n",
       "      <td>1</td>\n",
       "      <td>4</td>\n",
       "      <td>5.0</td>\n",
       "      <td>0</td>\n",
       "      <td>1.0</td>\n",
       "      <td>1</td>\n",
       "    </tr>\n",
       "    <tr>\n",
       "      <th>2</th>\n",
       "      <td>15</td>\n",
       "      <td>3</td>\n",
       "      <td>1</td>\n",
       "      <td>10</td>\n",
       "      <td>8.0</td>\n",
       "      <td>0</td>\n",
       "      <td>1.0</td>\n",
       "      <td>1</td>\n",
       "    </tr>\n",
       "    <tr>\n",
       "      <th>3</th>\n",
       "      <td>15</td>\n",
       "      <td>0</td>\n",
       "      <td>4</td>\n",
       "      <td>2</td>\n",
       "      <td>14.0</td>\n",
       "      <td>0</td>\n",
       "      <td>1.0</td>\n",
       "      <td>1</td>\n",
       "    </tr>\n",
       "    <tr>\n",
       "      <th>4</th>\n",
       "      <td>16</td>\n",
       "      <td>0</td>\n",
       "      <td>3</td>\n",
       "      <td>4</td>\n",
       "      <td>10.0</td>\n",
       "      <td>0</td>\n",
       "      <td>1.0</td>\n",
       "      <td>1</td>\n",
       "    </tr>\n",
       "    <tr>\n",
       "      <th>...</th>\n",
       "      <td>...</td>\n",
       "      <td>...</td>\n",
       "      <td>...</td>\n",
       "      <td>...</td>\n",
       "      <td>...</td>\n",
       "      <td>...</td>\n",
       "      <td>...</td>\n",
       "      <td>...</td>\n",
       "    </tr>\n",
       "    <tr>\n",
       "      <th>390</th>\n",
       "      <td>20</td>\n",
       "      <td>2</td>\n",
       "      <td>2</td>\n",
       "      <td>11</td>\n",
       "      <td>9.0</td>\n",
       "      <td>1</td>\n",
       "      <td>1.0</td>\n",
       "      <td>1</td>\n",
       "    </tr>\n",
       "    <tr>\n",
       "      <th>391</th>\n",
       "      <td>17</td>\n",
       "      <td>0</td>\n",
       "      <td>3</td>\n",
       "      <td>3</td>\n",
       "      <td>16.0</td>\n",
       "      <td>1</td>\n",
       "      <td>1.0</td>\n",
       "      <td>1</td>\n",
       "    </tr>\n",
       "    <tr>\n",
       "      <th>392</th>\n",
       "      <td>21</td>\n",
       "      <td>3</td>\n",
       "      <td>1</td>\n",
       "      <td>3</td>\n",
       "      <td>8.0</td>\n",
       "      <td>1</td>\n",
       "      <td>1.0</td>\n",
       "      <td>1</td>\n",
       "    </tr>\n",
       "    <tr>\n",
       "      <th>393</th>\n",
       "      <td>18</td>\n",
       "      <td>0</td>\n",
       "      <td>3</td>\n",
       "      <td>0</td>\n",
       "      <td>12.0</td>\n",
       "      <td>1</td>\n",
       "      <td>1.0</td>\n",
       "      <td>1</td>\n",
       "    </tr>\n",
       "    <tr>\n",
       "      <th>394</th>\n",
       "      <td>19</td>\n",
       "      <td>0</td>\n",
       "      <td>1</td>\n",
       "      <td>5</td>\n",
       "      <td>9.0</td>\n",
       "      <td>1</td>\n",
       "      <td>1.0</td>\n",
       "      <td>1</td>\n",
       "    </tr>\n",
       "  </tbody>\n",
       "</table>\n",
       "<p>395 rows × 8 columns</p>\n",
       "</div>"
      ],
      "text/plain": [
       "     age  failures  Medu  absences    G2  sex_M  higher_yes  intercept\n",
       "0     18         0     4         6   6.0      0         1.0          1\n",
       "1     17         0     1         4   5.0      0         1.0          1\n",
       "2     15         3     1        10   8.0      0         1.0          1\n",
       "3     15         0     4         2  14.0      0         1.0          1\n",
       "4     16         0     3         4  10.0      0         1.0          1\n",
       "..   ...       ...   ...       ...   ...    ...         ...        ...\n",
       "390   20         2     2        11   9.0      1         1.0          1\n",
       "391   17         0     3         3  16.0      1         1.0          1\n",
       "392   21         3     1         3   8.0      1         1.0          1\n",
       "393   18         0     3         0  12.0      1         1.0          1\n",
       "394   19         0     1         5   9.0      1         1.0          1\n",
       "\n",
       "[395 rows x 8 columns]"
      ]
     },
     "execution_count": 91,
     "metadata": {},
     "output_type": "execute_result"
    }
   ],
   "source": [
    "X_df_missing = MAR_data_deletion(X_df, 0.05, 0.05, 'higher_yes', 'G2')\n",
    "X_df_missing"
   ]
  },
  {
   "cell_type": "code",
   "execution_count": 115,
   "metadata": {},
   "outputs": [],
   "source": [
    "X = X_df_missing\n",
    "y = y_df.to_numpy()\n",
    "B = 100\n",
    "n = len(y)\n",
    "higher_yes_col = 6\n",
    "absences_col = 4\n",
    "age_col = 0\n",
    "taus = [2.9, 0.9, 0.7, 1]# [3.5, 0.8, 0.7, 1]\n",
    "thin = 10"
   ]
  },
  {
   "cell_type": "code",
   "execution_count": 116,
   "metadata": {},
   "outputs": [
    {
     "data": {
      "text/plain": [
       "array([5, 7, 9])"
      ]
     },
     "execution_count": 116,
     "metadata": {},
     "output_type": "execute_result"
    }
   ],
   "source": [
    "# Burn in thinning example\n",
    "l = np.array(list(range(10)))\n",
    "l[5::2]"
   ]
  },
  {
   "cell_type": "code",
   "execution_count": 117,
   "metadata": {},
   "outputs": [
    {
     "name": "stderr",
     "output_type": "stream",
     "text": [
      "100%|██████████| 1999/1999 [00:15<00:00, 129.96it/s]\n"
     ]
    }
   ],
   "source": [
    "(betas, sigmas2, higher_yes_sim, G2_sim, alphas, gamas, etas) = Gibbs_MH(X, y, B, n, thin)"
   ]
  },
  {
   "cell_type": "code",
   "execution_count": null,
   "metadata": {},
   "outputs": [],
   "source": [
    "betas_df = pd.DataFrame(betas.T, columns=[f\"beta_{i}\" for i in X_df.columns])\n",
    "higher_yes_df = pd.DataFrame(higher_yes_sim.T, columns=[f\"missing_higher_yes_{i}\" for i in range(0, higher_yes_sim.shape[0])])\n",
    "absences_df = pd.DataFrame(absences_sim.T, columns=[f\"missing_absences_{i}\" for i in range(0, absences_sim.shape[0])])\n",
    "rest_df = pd.DataFrame({\"sigmas2\": sigmas2.T,\n",
    "              \"alpha0\": alphas0.T,\n",
    "              \"alphas1\": alphas1.T,\n",
    "              \"gammas0\": gammas0.T, \n",
    "              \"gammas1\": gammas1.T\n",
    "             })\n",
    "              \n",
    "results = pd.concat([betas_df , higher_yes_df, absences_df, rest_df], axis=1) \n",
    "results.head()\n",
    "results.to_csv(\"results/03results_not_thinned.csv\")\n",
    "              "
   ]
  },
  {
   "cell_type": "code",
   "execution_count": null,
   "metadata": {},
   "outputs": [],
   "source": [
    "def MCMC_diagnostics(chain, param):\n",
    "    plt.subplot(411)\n",
    "    plt.plot(chain)\n",
    "    plt.title(f'Trace Plot {param}')\n",
    "\n",
    "    plt.subplot(412)\n",
    "    plt.hist(chain, bins=60)\n",
    "    plt.title(f'Histogram {param}')\n",
    "\n",
    "    plt.subplot(413)\n",
    "    gw_plot = pm.geweke(chain)\n",
    "    plt.scatter(gw_plot[:,0],gw_plot[:,1])\n",
    "    plt.axhline(-1.98, c='r')\n",
    "    plt.axhline(1.98, c='r')\n",
    "    \n",
    "    plt.ylim(-2.5,2.5)\n",
    "    plt.title(f'Geweke Plot Comparing first 10% and Slices of the Last 50% of Chain {param}')\n",
    "\n",
    "    plt.subplot(414)\n",
    "    acf_values = acf(chain)\n",
    "    plt.scatter(range(0, len(acf_values)), acf_values)\n",
    "    plt.title(f'ACF {param}')\n",
    "    \n",
    "    plt.tight_layout()\n",
    "    plt.show()"
   ]
  },
  {
   "cell_type": "code",
   "execution_count": null,
   "metadata": {
    "scrolled": true
   },
   "outputs": [],
   "source": [
    "MCMC_diagnostics(alphas0, \"alpha0\") # need to thin alphas and gammas"
   ]
  },
  {
   "cell_type": "code",
   "execution_count": null,
   "metadata": {
    "scrolled": true
   },
   "outputs": [],
   "source": [
    "MCMC_diagnostics(alphas1, 'alpha1')"
   ]
  },
  {
   "cell_type": "code",
   "execution_count": null,
   "metadata": {},
   "outputs": [],
   "source": [
    "MCMC_diagnostics(gammas0, \"gamma0\")"
   ]
  },
  {
   "cell_type": "code",
   "execution_count": null,
   "metadata": {
    "scrolled": true
   },
   "outputs": [],
   "source": [
    "MCMC_diagnostics(gammas1, \"gamma1\")"
   ]
  },
  {
   "cell_type": "code",
   "execution_count": null,
   "metadata": {},
   "outputs": [],
   "source": [
    "MCMC_diagnostics(sigmas2, \"sigma2\")"
   ]
  },
  {
   "cell_type": "code",
   "execution_count": null,
   "metadata": {},
   "outputs": [],
   "source": [
    "for i, beta in enumerate(betas):\n",
    "    MCMC_diagnostics(beta, X_df.columns[i])"
   ]
  },
  {
   "cell_type": "code",
   "execution_count": null,
   "metadata": {},
   "outputs": [],
   "source": [
    "# thin\n",
    "betas_thin = betas[:, ::thin]\n",
    "higher_yes_sim_thin = higher_yes_sim[:, ::thin]\n",
    "absences_sim_thin = absences_sim[:, ::thin]\n",
    "alphas0_thin = alphas0[::thin]\n",
    "alphas1_thin = alphas1[::thin]\n",
    "gammas0_thin = gammas0[::thin]\n",
    "gammas1_thin = gammas1[::thin]\n",
    "sigmas2_thin = sigmas2[::thin]"
   ]
  },
  {
   "cell_type": "code",
   "execution_count": null,
   "metadata": {},
   "outputs": [],
   "source": [
    "MCMC_diagnostics(alphas0_thin, \"alpha0\")\n",
    "MCMC_diagnostics(alphas1_thin, \"alpha1\")\n",
    "MCMC_diagnostics(gammas0_thin, \"gamma0\")\n",
    "MCMC_diagnostics(gammas1_thin, \"gamma1\")"
   ]
  },
  {
   "cell_type": "code",
   "execution_count": null,
   "metadata": {
    "scrolled": true
   },
   "outputs": [],
   "source": [
    "plt.subplot(121)\n",
    "plt.hist(higher_yes_sim.flatten())\n",
    "plt.title(f'Simulated missing absences')\n",
    "\n",
    "\n",
    "plt.subplot(122)\n",
    "plt.hist(X[:, higher_yes_col])\n",
    "plt.title(f'Observed absences')\n",
    "\n",
    "plt.show()"
   ]
  },
  {
   "cell_type": "code",
   "execution_count": null,
   "metadata": {},
   "outputs": [],
   "source": [
    "plt.subplot(121)\n",
    "plt.hist(absences_sim.flatten(), bins=30)\n",
    "plt.title(f'Simulated missing higher_yes')\n",
    "\n",
    "plt.subplot(122)\n",
    "plt.hist(X[:, absences_col], bins=30)\n",
    "plt.title(f'Observed higher_yes')\n",
    "plt.show()\n",
    "\n"
   ]
  },
  {
   "cell_type": "code",
   "execution_count": null,
   "metadata": {},
   "outputs": [],
   "source": [
    "betas_df_thinned = pd.DataFrame(betas_thin.T, columns=[f\"beta_{i}\" for i in X_df.columns])\n",
    "higher_yes_df_thinned = pd.DataFrame(higher_yes_sim_thin.T, columns=[f\"missing_higher_yes_{i}\" for i in range(0, higher_yes_sim.shape[0])])\n",
    "absences_df_thinned = pd.DataFrame(absences_sim_thin.T, columns=[f\"missing_absences_{i}\" for i in range(0, absences_sim.shape[0])])\n",
    "rest_df_thinned = pd.DataFrame({\"sigmas2\": sigmas2_thin.T,\n",
    "              \"alpha0\": alphas0_thin.T,\n",
    "              \"alphas1\": alphas1_thin.T,\n",
    "              \"gammas0\": gammas0_thin.T, \n",
    "              \"gammas1\": gammas1_thin.T\n",
    "             })\n",
    "              \n",
    "results_thinned = pd.concat([betas_df_thinned, higher_yes_df_thinned, absences_df_thinned, rest_df_thinned], axis=1) \n",
    "results_thinned.to_csv(\"results/03results_thinned.csv\")\n",
    "              "
   ]
  },
  {
   "cell_type": "code",
   "execution_count": null,
   "metadata": {},
   "outputs": [],
   "source": [
    "from scipy.stats import norm"
   ]
  },
  {
   "cell_type": "code",
   "execution_count": null,
   "metadata": {},
   "outputs": [],
   "source": [
    "norm.rvs(np.array([0,1,2]), 1)"
   ]
  },
  {
   "cell_type": "code",
   "execution_count": null,
   "metadata": {},
   "outputs": [],
   "source": []
  }
 ],
 "metadata": {
  "kernelspec": {
   "display_name": "Python 3",
   "language": "python",
   "name": "python3"
  },
  "language_info": {
   "codemirror_mode": {
    "name": "ipython",
    "version": 3
   },
   "file_extension": ".py",
   "mimetype": "text/x-python",
   "name": "python",
   "nbconvert_exporter": "python",
   "pygments_lexer": "ipython3",
   "version": "3.8.5"
  }
 },
 "nbformat": 4,
 "nbformat_minor": 4
}
