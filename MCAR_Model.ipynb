{
 "cells": [
  {
   "cell_type": "code",
   "execution_count": 1,
   "metadata": {},
   "outputs": [],
   "source": [
    "%load_ext autoreload\n",
    "%autoreload 2"
   ]
  },
  {
   "cell_type": "code",
   "execution_count": 2,
   "metadata": {},
   "outputs": [],
   "source": [
    "import pandas as pd\n",
    "import numpy as np\n",
    "import matplotlib.pyplot as plt\n",
    "from preprocessing import prepare_data, mcar_removal\n",
    "from model_code import MH_regression, Gibbs_regression, running_mean"
   ]
  },
  {
   "cell_type": "code",
   "execution_count": 3,
   "metadata": {},
   "outputs": [],
   "source": [
    "df = pd.read_csv('../student/student-mat.csv', sep=\";\")\n",
    "features, target = prepare_data(df)"
   ]
  },
  {
   "cell_type": "code",
   "execution_count": 4,
   "metadata": {},
   "outputs": [
    {
     "name": "stdout",
     "output_type": "stream",
     "text": [
      "removing 19 entries for both features\n"
     ]
    }
   ],
   "source": [
    "new_features = mcar_removal(features, 0.05)\n",
    "new_features.dropna(inplace=True)"
   ]
  },
  {
   "cell_type": "code",
   "execution_count": 5,
   "metadata": {},
   "outputs": [
    {
     "name": "stdout",
     "output_type": "stream",
     "text": [
      "removing 19 entries for both features\n",
      "removing 39 entries for both features\n",
      "removing 98 entries for both features\n",
      "removing 197 entries for both features\n"
     ]
    }
   ],
   "source": [
    "for prop in [0.05, 0.1, 0.25, 0.5]:\n",
    "    new_features = mcar_removal(features, prop)\n",
    "    new_features.dropna(inplace=True)\n",
    "    new_target = target[new_features.index].copy()\n",
    "    betas, sigmas = Gibbs_regression(new_features, new_target, B=20000)\n",
    "    thinned_betas = betas[:,::10]\n",
    "    results = pd.DataFrame(thinned_betas.T, columns = features.columns)\n",
    "    results.to_csv(f'results/02_dists_{prop}.csv', index=False)"
   ]
  },
  {
   "cell_type": "code",
   "execution_count": null,
   "metadata": {},
   "outputs": [],
   "source": []
  }
 ],
 "metadata": {
  "kernelspec": {
   "display_name": "Python [conda env:.conda-py3] *",
   "language": "python",
   "name": "conda-env-.conda-py3-py"
  },
  "language_info": {
   "codemirror_mode": {
    "name": "ipython",
    "version": 3
   },
   "file_extension": ".py",
   "mimetype": "text/x-python",
   "name": "python",
   "nbconvert_exporter": "python",
   "pygments_lexer": "ipython3",
   "version": "3.8.5"
  }
 },
 "nbformat": 4,
 "nbformat_minor": 4
}
