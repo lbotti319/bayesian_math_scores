{
 "cells": [
  {
   "cell_type": "code",
   "execution_count": 1,
   "metadata": {},
   "outputs": [],
   "source": [
    "%load_ext autoreload\n",
    "%autoreload 2"
   ]
  },
  {
   "cell_type": "code",
   "execution_count": 2,
   "metadata": {},
   "outputs": [],
   "source": [
    "import pandas as pd\n",
    "import numpy as np\n",
    "from sklearn.preprocessing import LabelEncoder"
   ]
  },
  {
   "cell_type": "markdown",
   "metadata": {},
   "source": [
    "Our likelihood function is\n",
    "\n",
    "$$p(y | X, \\beta ,\\sigma^2) \\propto (\\sigma^2)^{-n/2} \\exp \\left[-\\frac{1}{2\\sigma^2} (y-X\\beta)^T (y-X\\beta) \\right] $$\n",
    "\n",
    "Taking our priors as $\\pi(\\sigma^2) \\propto \\frac{1}{\\sigma^2}$ and $\\pi(\\beta) \\propto 1$ gives the posterior:\n",
    "\n",
    "$$p(\\sigma^2, \\beta | x, y) \\propto  (\\sigma^2)^{-n/2 - 1} \\exp \\left[-\\frac{1}{2\\sigma^2} (y-X\\beta)^T (y-X\\beta) \\right] $$\n",
    "\n",
    "$$p(\\beta |y, X ,\\Sigma) \\propto \\exp \\left[-\\frac{1}{2\\sigma^2} (y-X\\beta)^T(y-X\\beta) \\right] $$\n",
    "\n",
    "$$p(\\sigma^2 | y, X, \\beta) \\propto (\\sigma^2)^{-n/2 - 1} \\exp \\left[-\\frac{1}{2\\sigma^2} (y-X\\beta)^T (y-X\\beta) \\right] $$\n",
    "\n",
    "$$\\sigma^2 | y, X, \\beta \\sim IG \\left(\\frac{n}{2}, \\frac{(y-X\\beta)^T (y-X\\beta)}{2} \\right)$$\n"
   ]
  },
  {
   "cell_type": "code",
   "execution_count": 3,
   "metadata": {},
   "outputs": [],
   "source": [
    "df = pd.read_csv('student-mat.csv', sep=\",\")"
   ]
  },
  {
   "cell_type": "code",
   "execution_count": 4,
   "metadata": {},
   "outputs": [
    {
     "data": {
      "text/html": [
       "<div>\n",
       "<style scoped>\n",
       "    .dataframe tbody tr th:only-of-type {\n",
       "        vertical-align: middle;\n",
       "    }\n",
       "\n",
       "    .dataframe tbody tr th {\n",
       "        vertical-align: top;\n",
       "    }\n",
       "\n",
       "    .dataframe thead th {\n",
       "        text-align: right;\n",
       "    }\n",
       "</style>\n",
       "<table border=\"1\" class=\"dataframe\">\n",
       "  <thead>\n",
       "    <tr style=\"text-align: right;\">\n",
       "      <th></th>\n",
       "      <th>school</th>\n",
       "      <th>sex</th>\n",
       "      <th>age</th>\n",
       "      <th>address</th>\n",
       "      <th>famsize</th>\n",
       "      <th>Pstatus</th>\n",
       "      <th>Medu</th>\n",
       "      <th>Fedu</th>\n",
       "      <th>Mjob</th>\n",
       "      <th>Fjob</th>\n",
       "      <th>...</th>\n",
       "      <th>famrel</th>\n",
       "      <th>freetime</th>\n",
       "      <th>goout</th>\n",
       "      <th>Dalc</th>\n",
       "      <th>Walc</th>\n",
       "      <th>health</th>\n",
       "      <th>absences</th>\n",
       "      <th>G1</th>\n",
       "      <th>G2</th>\n",
       "      <th>G3</th>\n",
       "    </tr>\n",
       "  </thead>\n",
       "  <tbody>\n",
       "    <tr>\n",
       "      <th>0</th>\n",
       "      <td>GP</td>\n",
       "      <td>F</td>\n",
       "      <td>18</td>\n",
       "      <td>U</td>\n",
       "      <td>GT3</td>\n",
       "      <td>A</td>\n",
       "      <td>4</td>\n",
       "      <td>4</td>\n",
       "      <td>at_home</td>\n",
       "      <td>teacher</td>\n",
       "      <td>...</td>\n",
       "      <td>4</td>\n",
       "      <td>3</td>\n",
       "      <td>4</td>\n",
       "      <td>1</td>\n",
       "      <td>1</td>\n",
       "      <td>3</td>\n",
       "      <td>6</td>\n",
       "      <td>5</td>\n",
       "      <td>6</td>\n",
       "      <td>6</td>\n",
       "    </tr>\n",
       "    <tr>\n",
       "      <th>1</th>\n",
       "      <td>GP</td>\n",
       "      <td>F</td>\n",
       "      <td>17</td>\n",
       "      <td>U</td>\n",
       "      <td>GT3</td>\n",
       "      <td>T</td>\n",
       "      <td>1</td>\n",
       "      <td>1</td>\n",
       "      <td>at_home</td>\n",
       "      <td>other</td>\n",
       "      <td>...</td>\n",
       "      <td>5</td>\n",
       "      <td>3</td>\n",
       "      <td>3</td>\n",
       "      <td>1</td>\n",
       "      <td>1</td>\n",
       "      <td>3</td>\n",
       "      <td>4</td>\n",
       "      <td>5</td>\n",
       "      <td>5</td>\n",
       "      <td>6</td>\n",
       "    </tr>\n",
       "    <tr>\n",
       "      <th>2</th>\n",
       "      <td>GP</td>\n",
       "      <td>F</td>\n",
       "      <td>15</td>\n",
       "      <td>U</td>\n",
       "      <td>LE3</td>\n",
       "      <td>T</td>\n",
       "      <td>1</td>\n",
       "      <td>1</td>\n",
       "      <td>at_home</td>\n",
       "      <td>other</td>\n",
       "      <td>...</td>\n",
       "      <td>4</td>\n",
       "      <td>3</td>\n",
       "      <td>2</td>\n",
       "      <td>2</td>\n",
       "      <td>3</td>\n",
       "      <td>3</td>\n",
       "      <td>10</td>\n",
       "      <td>7</td>\n",
       "      <td>8</td>\n",
       "      <td>10</td>\n",
       "    </tr>\n",
       "    <tr>\n",
       "      <th>3</th>\n",
       "      <td>GP</td>\n",
       "      <td>F</td>\n",
       "      <td>15</td>\n",
       "      <td>U</td>\n",
       "      <td>GT3</td>\n",
       "      <td>T</td>\n",
       "      <td>4</td>\n",
       "      <td>2</td>\n",
       "      <td>health</td>\n",
       "      <td>services</td>\n",
       "      <td>...</td>\n",
       "      <td>3</td>\n",
       "      <td>2</td>\n",
       "      <td>2</td>\n",
       "      <td>1</td>\n",
       "      <td>1</td>\n",
       "      <td>5</td>\n",
       "      <td>2</td>\n",
       "      <td>15</td>\n",
       "      <td>14</td>\n",
       "      <td>15</td>\n",
       "    </tr>\n",
       "    <tr>\n",
       "      <th>4</th>\n",
       "      <td>GP</td>\n",
       "      <td>F</td>\n",
       "      <td>16</td>\n",
       "      <td>U</td>\n",
       "      <td>GT3</td>\n",
       "      <td>T</td>\n",
       "      <td>3</td>\n",
       "      <td>3</td>\n",
       "      <td>other</td>\n",
       "      <td>other</td>\n",
       "      <td>...</td>\n",
       "      <td>4</td>\n",
       "      <td>3</td>\n",
       "      <td>2</td>\n",
       "      <td>1</td>\n",
       "      <td>2</td>\n",
       "      <td>5</td>\n",
       "      <td>4</td>\n",
       "      <td>6</td>\n",
       "      <td>10</td>\n",
       "      <td>10</td>\n",
       "    </tr>\n",
       "  </tbody>\n",
       "</table>\n",
       "<p>5 rows × 33 columns</p>\n",
       "</div>"
      ],
      "text/plain": [
       "  school sex  age address famsize Pstatus  Medu  Fedu     Mjob      Fjob  ...  \\\n",
       "0     GP   F   18       U     GT3       A     4     4  at_home   teacher  ...   \n",
       "1     GP   F   17       U     GT3       T     1     1  at_home     other  ...   \n",
       "2     GP   F   15       U     LE3       T     1     1  at_home     other  ...   \n",
       "3     GP   F   15       U     GT3       T     4     2   health  services  ...   \n",
       "4     GP   F   16       U     GT3       T     3     3    other     other  ...   \n",
       "\n",
       "  famrel freetime  goout  Dalc  Walc health absences  G1  G2  G3  \n",
       "0      4        3      4     1     1      3        6   5   6   6  \n",
       "1      5        3      3     1     1      3        4   5   5   6  \n",
       "2      4        3      2     2     3      3       10   7   8  10  \n",
       "3      3        2      2     1     1      5        2  15  14  15  \n",
       "4      4        3      2     1     2      5        4   6  10  10  \n",
       "\n",
       "[5 rows x 33 columns]"
      ]
     },
     "execution_count": 4,
     "metadata": {},
     "output_type": "execute_result"
    }
   ],
   "source": [
    "df.head()"
   ]
  },
  {
   "cell_type": "code",
   "execution_count": 5,
   "metadata": {},
   "outputs": [],
   "source": [
    "X = df[['age', 'famrel', 'freetime', 'goout', 'G1', 'G2']].copy()\n",
    "X['intercept'] = 1\n",
    "y = df['G3']"
   ]
  },
  {
   "cell_type": "code",
   "execution_count": 6,
   "metadata": {},
   "outputs": [],
   "source": [
    "from model_code import MH_regression"
   ]
  },
  {
   "cell_type": "code",
   "execution_count": 7,
   "metadata": {},
   "outputs": [
    {
     "name": "stdout",
     "output_type": "stream",
     "text": [
      "0.0\n"
     ]
    }
   ],
   "source": [
    "np.random.seed(seed=870)\n",
    "betas, accept = MH_regression(X, y, 20, 3)\n",
    "print(np.mean(accept))"
   ]
  },
  {
   "cell_type": "markdown",
   "metadata": {},
   "source": [
    "## Choosing explanatory variables "
   ]
  },
  {
   "cell_type": "code",
   "execution_count": 8,
   "metadata": {},
   "outputs": [],
   "source": [
    "category = [\"sex\", \"Mjob\", \"Fjob\", \"school\", \"address\", \"Pstatus\", \n",
    "           \"reason\", \"guardian\", \"schoolsup\", \"famsup\", \"paid\", \"famsize\",\n",
    "            \"activities\", \"nursery\", \"higher\", \"internet\", \"romantic\"]\n",
    "numeric = [\"age\", \"absences\", \"Medu\", \"Fedu\", \"traveltime\", \n",
    "           \"studytime\", \"failures\", \"famrel\", \"freetime\", \"goout\", \"Dalc\", \n",
    "           \"Walc\", \"health\", \"G1\", \"G2\", \"G3\"]"
   ]
  },
  {
   "cell_type": "code",
   "execution_count": 9,
   "metadata": {
    "scrolled": true
   },
   "outputs": [],
   "source": [
    "df[numeric] = df[numeric].astype(int) \n",
    "df = pd.get_dummies(df, drop_first=True)"
   ]
  },
  {
   "cell_type": "code",
   "execution_count": 10,
   "metadata": {},
   "outputs": [
    {
     "data": {
      "text/html": [
       "<div>\n",
       "<style scoped>\n",
       "    .dataframe tbody tr th:only-of-type {\n",
       "        vertical-align: middle;\n",
       "    }\n",
       "\n",
       "    .dataframe tbody tr th {\n",
       "        vertical-align: top;\n",
       "    }\n",
       "\n",
       "    .dataframe thead th {\n",
       "        text-align: right;\n",
       "    }\n",
       "</style>\n",
       "<table border=\"1\" class=\"dataframe\">\n",
       "  <thead>\n",
       "    <tr style=\"text-align: right;\">\n",
       "      <th></th>\n",
       "      <th>age</th>\n",
       "      <th>Medu</th>\n",
       "      <th>Fedu</th>\n",
       "      <th>traveltime</th>\n",
       "      <th>studytime</th>\n",
       "      <th>failures</th>\n",
       "      <th>famrel</th>\n",
       "      <th>freetime</th>\n",
       "      <th>goout</th>\n",
       "      <th>Dalc</th>\n",
       "      <th>...</th>\n",
       "      <th>guardian_mother</th>\n",
       "      <th>guardian_other</th>\n",
       "      <th>schoolsup_yes</th>\n",
       "      <th>famsup_yes</th>\n",
       "      <th>paid_yes</th>\n",
       "      <th>activities_yes</th>\n",
       "      <th>nursery_yes</th>\n",
       "      <th>higher_yes</th>\n",
       "      <th>internet_yes</th>\n",
       "      <th>romantic_yes</th>\n",
       "    </tr>\n",
       "  </thead>\n",
       "  <tbody>\n",
       "    <tr>\n",
       "      <th>0</th>\n",
       "      <td>18</td>\n",
       "      <td>4</td>\n",
       "      <td>4</td>\n",
       "      <td>2</td>\n",
       "      <td>2</td>\n",
       "      <td>0</td>\n",
       "      <td>4</td>\n",
       "      <td>3</td>\n",
       "      <td>4</td>\n",
       "      <td>1</td>\n",
       "      <td>...</td>\n",
       "      <td>1</td>\n",
       "      <td>0</td>\n",
       "      <td>1</td>\n",
       "      <td>0</td>\n",
       "      <td>0</td>\n",
       "      <td>0</td>\n",
       "      <td>1</td>\n",
       "      <td>1</td>\n",
       "      <td>0</td>\n",
       "      <td>0</td>\n",
       "    </tr>\n",
       "    <tr>\n",
       "      <th>1</th>\n",
       "      <td>17</td>\n",
       "      <td>1</td>\n",
       "      <td>1</td>\n",
       "      <td>1</td>\n",
       "      <td>2</td>\n",
       "      <td>0</td>\n",
       "      <td>5</td>\n",
       "      <td>3</td>\n",
       "      <td>3</td>\n",
       "      <td>1</td>\n",
       "      <td>...</td>\n",
       "      <td>0</td>\n",
       "      <td>0</td>\n",
       "      <td>0</td>\n",
       "      <td>1</td>\n",
       "      <td>0</td>\n",
       "      <td>0</td>\n",
       "      <td>0</td>\n",
       "      <td>1</td>\n",
       "      <td>1</td>\n",
       "      <td>0</td>\n",
       "    </tr>\n",
       "    <tr>\n",
       "      <th>2</th>\n",
       "      <td>15</td>\n",
       "      <td>1</td>\n",
       "      <td>1</td>\n",
       "      <td>1</td>\n",
       "      <td>2</td>\n",
       "      <td>3</td>\n",
       "      <td>4</td>\n",
       "      <td>3</td>\n",
       "      <td>2</td>\n",
       "      <td>2</td>\n",
       "      <td>...</td>\n",
       "      <td>1</td>\n",
       "      <td>0</td>\n",
       "      <td>1</td>\n",
       "      <td>0</td>\n",
       "      <td>1</td>\n",
       "      <td>0</td>\n",
       "      <td>1</td>\n",
       "      <td>1</td>\n",
       "      <td>1</td>\n",
       "      <td>0</td>\n",
       "    </tr>\n",
       "    <tr>\n",
       "      <th>3</th>\n",
       "      <td>15</td>\n",
       "      <td>4</td>\n",
       "      <td>2</td>\n",
       "      <td>1</td>\n",
       "      <td>3</td>\n",
       "      <td>0</td>\n",
       "      <td>3</td>\n",
       "      <td>2</td>\n",
       "      <td>2</td>\n",
       "      <td>1</td>\n",
       "      <td>...</td>\n",
       "      <td>1</td>\n",
       "      <td>0</td>\n",
       "      <td>0</td>\n",
       "      <td>1</td>\n",
       "      <td>1</td>\n",
       "      <td>1</td>\n",
       "      <td>1</td>\n",
       "      <td>1</td>\n",
       "      <td>1</td>\n",
       "      <td>1</td>\n",
       "    </tr>\n",
       "    <tr>\n",
       "      <th>4</th>\n",
       "      <td>16</td>\n",
       "      <td>3</td>\n",
       "      <td>3</td>\n",
       "      <td>1</td>\n",
       "      <td>2</td>\n",
       "      <td>0</td>\n",
       "      <td>4</td>\n",
       "      <td>3</td>\n",
       "      <td>2</td>\n",
       "      <td>1</td>\n",
       "      <td>...</td>\n",
       "      <td>0</td>\n",
       "      <td>0</td>\n",
       "      <td>0</td>\n",
       "      <td>1</td>\n",
       "      <td>1</td>\n",
       "      <td>0</td>\n",
       "      <td>1</td>\n",
       "      <td>1</td>\n",
       "      <td>0</td>\n",
       "      <td>0</td>\n",
       "    </tr>\n",
       "  </tbody>\n",
       "</table>\n",
       "<p>5 rows × 42 columns</p>\n",
       "</div>"
      ],
      "text/plain": [
       "   age  Medu  Fedu  traveltime  studytime  failures  famrel  freetime  goout  \\\n",
       "0   18     4     4           2          2         0       4         3      4   \n",
       "1   17     1     1           1          2         0       5         3      3   \n",
       "2   15     1     1           1          2         3       4         3      2   \n",
       "3   15     4     2           1          3         0       3         2      2   \n",
       "4   16     3     3           1          2         0       4         3      2   \n",
       "\n",
       "   Dalc  ...  guardian_mother  guardian_other  schoolsup_yes  famsup_yes  \\\n",
       "0     1  ...                1               0              1           0   \n",
       "1     1  ...                0               0              0           1   \n",
       "2     2  ...                1               0              1           0   \n",
       "3     1  ...                1               0              0           1   \n",
       "4     1  ...                0               0              0           1   \n",
       "\n",
       "   paid_yes  activities_yes  nursery_yes  higher_yes  internet_yes  \\\n",
       "0         0               0            1           1             0   \n",
       "1         0               0            0           1             1   \n",
       "2         1               0            1           1             1   \n",
       "3         1               1            1           1             1   \n",
       "4         1               0            1           1             0   \n",
       "\n",
       "   romantic_yes  \n",
       "0             0  \n",
       "1             0  \n",
       "2             0  \n",
       "3             1  \n",
       "4             0  \n",
       "\n",
       "[5 rows x 42 columns]"
      ]
     },
     "execution_count": 10,
     "metadata": {},
     "output_type": "execute_result"
    }
   ],
   "source": [
    "df.head()"
   ]
  },
  {
   "cell_type": "code",
   "execution_count": 11,
   "metadata": {
    "scrolled": true
   },
   "outputs": [
    {
     "data": {
      "text/plain": [
       "age                 -0.161579\n",
       "Medu                 0.217147\n",
       "Fedu                 0.152457\n",
       "traveltime          -0.117142\n",
       "studytime            0.097820\n",
       "failures            -0.360415\n",
       "famrel               0.051363\n",
       "freetime             0.011307\n",
       "goout               -0.132791\n",
       "Dalc                -0.054660\n",
       "Walc                -0.051939\n",
       "health              -0.061335\n",
       "absences             0.034247\n",
       "G1                   0.801468\n",
       "G2                   0.904868\n",
       "G3                   1.000000\n",
       "school_MS           -0.045017\n",
       "sex_M                0.103456\n",
       "address_U            0.105756\n",
       "famsize_LE3          0.081407\n",
       "Pstatus_T           -0.058009\n",
       "Mjob_health          0.116158\n",
       "Mjob_other          -0.096477\n",
       "Mjob_services        0.078429\n",
       "Mjob_teacher         0.057712\n",
       "Fjob_health          0.057111\n",
       "Fjob_other          -0.053483\n",
       "Fjob_services       -0.016108\n",
       "Fjob_teacher         0.095374\n",
       "reason_home         -0.021359\n",
       "reason_other         0.052008\n",
       "reason_reputation    0.095692\n",
       "guardian_mother      0.022338\n",
       "guardian_other      -0.087774\n",
       "schoolsup_yes       -0.082788\n",
       "famsup_yes          -0.039157\n",
       "paid_yes             0.101996\n",
       "activities_yes       0.016100\n",
       "nursery_yes          0.051568\n",
       "higher_yes           0.182465\n",
       "internet_yes         0.098483\n",
       "romantic_yes        -0.129970\n",
       "Name: G3, dtype: float64"
      ]
     },
     "execution_count": 11,
     "metadata": {},
     "output_type": "execute_result"
    }
   ],
   "source": [
    "df.corr()[\"G3\"]"
   ]
  },
  {
   "cell_type": "markdown",
   "metadata": {},
   "source": [
    "Suggesting for now:\n",
    "\n",
    "We can let higher_yes and failures be the variables with missing data.\n",
    "And using all the rest. Let $\\mathbf{X}$ be the design matrix, including the variables with missing data. Let $\\mathbf{X_J}$ be the design matrix, excluding the variables with missing data.\n",
    "\n",
    "$$\\mathbf{Y} \\sim MVN(\\mathbf{X}\\beta, \\mathbf{I}\\sigma^2)$$\n",
    "$$X_{\\text{higher_yes}} \\sim Bernoulli(p_1)$$ \n",
    "$$X_{\\text{failures}} \\sim Binomial(N, p_2)$$ \n",
    "$$\\pi(\\sigma^2) \\propto \\frac{1}{\\sigma^2}$$\n",
    "$$\\pi(\\beta)\\propto 1$$\n",
    "\n",
    "Assuming $X_{\\text{higher_yes}}, X_{\\text{failures}}, \\sigma^2, \\beta$ are independent we have \n",
    "\n",
    "$$p(X_{\\text{higher_yes}}, X_{\\text{failures}}, \\sigma^2, \\beta|\\mathbf{X_J}, \\mathbf{Y})$$\n",
    "\n",
    "$$\\propto L(\\mathbf{Y}|\\mathbf{X_J}, X_{\\text{higher_yes}}, X_{\\text{failures}}, \\sigma^2, \\beta)\\pi(X_{\\text{higher_yes}}|\\mathbf{X_J}, X_{\\text{failures}}, \\sigma^2, \\beta)\\pi(X_{\\text{failures}}|\\mathbf{X_J}, X_{\\text{higher_yes}},  \\sigma^2, \\beta)\\pi(\\beta|\\mathbf{X_J}, \\sigma^2)\\pi(\\sigma^2| \\mathbf{X_J})$$\n",
    "\n",
    "$$\\propto L(\\mathbf{Y}|\\mathbf{X_J}, X_{\\text{higher_yes}}, X_{\\text{failures}}, \\sigma^2, \\beta)\\pi(X_{\\text{higher_yes}}|\\mathbf{X_J})\\pi(X_{\\text{failures}}|\\mathbf{X_J})\\pi(\\beta|\\mathbf{X_J})\\pi(\\sigma^2| \\mathbf{X_J})$$"
   ]
  },
  {
   "cell_type": "code",
   "execution_count": 12,
   "metadata": {},
   "outputs": [
    {
     "ename": "SyntaxError",
     "evalue": "invalid syntax (<ipython-input-12-ac5e00be15e6>, line 1)",
     "output_type": "error",
     "traceback": [
      "\u001b[0;36m  File \u001b[0;32m\"<ipython-input-12-ac5e00be15e6>\"\u001b[0;36m, line \u001b[0;32m1\u001b[0m\n\u001b[0;31m    https://bayesball.github.io/BOOK/bayesian-hierarchical-modeling.html\u001b[0m\n\u001b[0m          ^\u001b[0m\n\u001b[0;31mSyntaxError\u001b[0m\u001b[0;31m:\u001b[0m invalid syntax\n"
     ]
    }
   ],
   "source": [
    "https://bayesball.github.io/BOOK/bayesian-hierarchical-modeling.html"
   ]
  },
  {
   "cell_type": "code",
   "execution_count": null,
   "metadata": {},
   "outputs": [],
   "source": []
  },
  {
   "cell_type": "code",
   "execution_count": null,
   "metadata": {},
   "outputs": [],
   "source": []
  },
  {
   "cell_type": "markdown",
   "metadata": {},
   "source": [
    "To model the missing covariates, we can consider $\\text{Higher_yes}|\\text{Age}$ to be a binary model."
   ]
  },
  {
   "cell_type": "markdown",
   "metadata": {},
   "source": [
    "$\\text{Higher_yes}_i|\\text{Age}_i \\sim \\text{Bernoulli}(\\phi_i)$ where\n",
    "\n",
    "$$\\phi_i=\\frac{\\exp [ \\alpha_0 + \\alpha_1 \\text{Age}_i]}{1+\\exp [ \\alpha_0 + \\alpha_1 \\text{Age}_i]} \\in [0,1]$$\n",
    "\n",
    "And $\\alpha_0, \\alpha_1$ are given normal priors with large variance."
   ]
  },
  {
   "cell_type": "markdown",
   "metadata": {},
   "source": [
    "$\\text{Absences}|\\text{Age}$ can be considered a count model.\n",
    "\n",
    "$$\\text{Absences}_i|\\text{Age}_i \\sim \\text{Poisson}(\\mu)$$ where\n",
    "\n",
    "$$\\mu_i=\\exp [\\gamma_0 + \\gamma_1\\text{Age}_i] > 0$$\n",
    "\n",
    "And $\\gamma_0, \\gamma_1$ are given normal priors with large variance."
   ]
  },
  {
   "cell_type": "markdown",
   "metadata": {},
   "source": [
    "The regression parameters are given the following priors\n",
    "\n",
    "$$\\pi(\\sigma^2) \\propto \\frac{1}{\\sigma^2}$$\n",
    "$$\\pi(\\beta)\\propto 1$$"
   ]
  },
  {
   "cell_type": "markdown",
   "metadata": {},
   "source": [
    "Our parameters are then $\\alpha_0, \\alpha_1, \\gamma_0, \\gamma_1, \\text{Absences}_i, \\text{Higher_yes}_i$ (parameters for modeling the missing covariates) and $\\beta, \\sigma^2$ (regression parameters). The full posterior would be the product of: \n",
    "\n",
    "\n",
    "$$p(y | X, \\beta ,\\sigma^2) \\propto (\\sigma^2)^{-n/2} \\exp \\left[-\\frac{1}{2\\sigma^2} (y-X\\beta)^T (y-X\\beta) \\right]$$\n",
    "$$\\pi(\\sigma^2) \\propto \\frac{1}{\\sigma^2}$$\n",
    "$$\\pi(\\beta)\\propto 1$$\n",
    "$$\\prod_{i=1}^n p(\\text{Absences}_i|\\text{Age}_i)$$\n",
    "$$\\prod_{i=1}^np(\\text{Higher_yes}_i|\\text{Age}_i)$$\n",
    "$$N(0, 100) ~~\\text{for example for each of}~~ \\alpha_0, \\alpha_1, \\gamma_0, \\gamma_1$$"
   ]
  },
  {
   "cell_type": "markdown",
   "metadata": {},
   "source": []
  },
  {
   "cell_type": "code",
   "execution_count": 17,
   "metadata": {},
   "outputs": [
    {
     "data": {
      "text/plain": [
       "<AxesSubplot:ylabel='Frequency'>"
      ]
     },
     "execution_count": 17,
     "metadata": {},
     "output_type": "execute_result"
    },
    {
     "data": {
      "image/png": "[encoded data removed]",
      "text/plain": [
       "<Figure size 432x288 with 1 Axes>"
      ]
     },
     "metadata": {
      "needs_background": "light"
     },
     "output_type": "display_data"
    }
   ],
   "source": [
    "df[\"G2\"].plot.hist()"
   ]
  },
  {
   "cell_type": "markdown",
   "metadata": {},
   "source": [
    "PYMC example of hierarchical model:\n",
    "https://docs.pymc.io/notebooks/GLM-hierarchical.html"
   ]
  }
 ],
 "metadata": {
  "kernelspec": {
   "display_name": "Python 3",
   "language": "python",
   "name": "python3"
  },
  "language_info": {
   "codemirror_mode": {
    "name": "ipython",
    "version": 3
   },
   "file_extension": ".py",
   "mimetype": "text/x-python",
   "name": "python",
   "nbconvert_exporter": "python",
   "pygments_lexer": "ipython3",
   "version": "3.8.5"
  }
 },
 "nbformat": 4,
 "nbformat_minor": 4
}
