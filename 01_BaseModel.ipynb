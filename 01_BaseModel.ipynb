{
 "cells": [
  {
   "cell_type": "code",
   "execution_count": 1,
   "metadata": {},
   "outputs": [],
   "source": [
    "%load_ext autoreload\n",
    "%autoreload 2"
   ]
  },
  {
   "cell_type": "code",
   "execution_count": 2,
   "metadata": {},
   "outputs": [],
   "source": [
    "import pandas as pd\n",
    "import numpy as np\n",
    "import matplotlib.pyplot as plt\n",
    "from src.preprocessing import prepare_data\n",
    "from src.model_code import MH_regression, Gibbs_regression, running_mean"
   ]
  },
  {
   "cell_type": "code",
   "execution_count": 3,
   "metadata": {},
   "outputs": [],
   "source": [
    "df = pd.read_csv('../student/student-mat.csv', sep=\";\")\n",
    "features, target = prepare_data(df)"
   ]
  },
  {
   "cell_type": "code",
   "execution_count": 4,
   "metadata": {},
   "outputs": [],
   "source": [
    "betas, sigmas = Gibbs_regression(features, target, B=20000)"
   ]
  },
  {
   "cell_type": "code",
   "execution_count": 5,
   "metadata": {},
   "outputs": [],
   "source": [
    "thinned_betas = betas[:,::10]\n",
    "results = pd.DataFrame(thinned_betas.T, columns = features.columns)"
   ]
  },
  {
   "cell_type": "code",
   "execution_count": 6,
   "metadata": {},
   "outputs": [
    {
     "data": {
      "text/html": [
       "<div>\n",
       "<style scoped>\n",
       "    .dataframe tbody tr th:only-of-type {\n",
       "        vertical-align: middle;\n",
       "    }\n",
       "\n",
       "    .dataframe tbody tr th {\n",
       "        vertical-align: top;\n",
       "    }\n",
       "\n",
       "    .dataframe thead th {\n",
       "        text-align: right;\n",
       "    }\n",
       "</style>\n",
       "<table border=\"1\" class=\"dataframe\">\n",
       "  <thead>\n",
       "    <tr style=\"text-align: right;\">\n",
       "      <th></th>\n",
       "      <th>intercept</th>\n",
       "      <th>age</th>\n",
       "      <th>sex_M</th>\n",
       "      <th>failures</th>\n",
       "      <th>higher_yes</th>\n",
       "      <th>Medu</th>\n",
       "      <th>absences</th>\n",
       "      <th>G2</th>\n",
       "    </tr>\n",
       "  </thead>\n",
       "  <tbody>\n",
       "    <tr>\n",
       "      <th>0.05</th>\n",
       "      <td>-2.155611</td>\n",
       "      <td>-0.254353</td>\n",
       "      <td>-0.045536</td>\n",
       "      <td>-0.490079</td>\n",
       "      <td>-0.530519</td>\n",
       "      <td>-0.162876</td>\n",
       "      <td>0.021074</td>\n",
       "      <td>1.029805</td>\n",
       "    </tr>\n",
       "    <tr>\n",
       "      <th>0.50</th>\n",
       "      <td>0.331696</td>\n",
       "      <td>-0.121563</td>\n",
       "      <td>0.283167</td>\n",
       "      <td>-0.247024</td>\n",
       "      <td>0.274709</td>\n",
       "      <td>0.000187</td>\n",
       "      <td>0.042212</td>\n",
       "      <td>1.075530</td>\n",
       "    </tr>\n",
       "    <tr>\n",
       "      <th>0.95</th>\n",
       "      <td>2.964495</td>\n",
       "      <td>0.014772</td>\n",
       "      <td>0.627614</td>\n",
       "      <td>-0.008959</td>\n",
       "      <td>1.114291</td>\n",
       "      <td>0.154496</td>\n",
       "      <td>0.063247</td>\n",
       "      <td>1.121818</td>\n",
       "    </tr>\n",
       "  </tbody>\n",
       "</table>\n",
       "</div>"
      ],
      "text/plain": [
       "      intercept       age     sex_M  failures  higher_yes      Medu  absences  \\\n",
       "0.05  -2.155611 -0.254353 -0.045536 -0.490079   -0.530519 -0.162876  0.021074   \n",
       "0.50   0.331696 -0.121563  0.283167 -0.247024    0.274709  0.000187  0.042212   \n",
       "0.95   2.964495  0.014772  0.627614 -0.008959    1.114291  0.154496  0.063247   \n",
       "\n",
       "            G2  \n",
       "0.05  1.029805  \n",
       "0.50  1.075530  \n",
       "0.95  1.121818  "
      ]
     },
     "execution_count": 6,
     "metadata": {},
     "output_type": "execute_result"
    }
   ],
   "source": [
    "quants = results.quantile((0.05, 0.5, 0.95))\n",
    "quants"
   ]
  },
  {
   "cell_type": "code",
   "execution_count": 7,
   "metadata": {},
   "outputs": [],
   "source": [
    "results.to_csv('results/01_beta_dists.csv', index=False)"
   ]
  },
  {
   "cell_type": "code",
   "execution_count": null,
   "metadata": {},
   "outputs": [],
   "source": []
  }
 ],
 "metadata": {
  "kernelspec": {
   "display_name": "Python [conda env:.conda-py3] *",
   "language": "python",
   "name": "conda-env-.conda-py3-py"
  },
  "language_info": {
   "codemirror_mode": {
    "name": "ipython",
    "version": 3
   },
   "file_extension": ".py",
   "mimetype": "text/x-python",
   "name": "python",
   "nbconvert_exporter": "python",
   "pygments_lexer": "ipython3",
   "version": "3.8.5"
  }
 },
 "nbformat": 4,
 "nbformat_minor": 4
}
