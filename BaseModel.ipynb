{
 "cells": [
  {
   "cell_type": "code",
   "execution_count": 1,
   "metadata": {},
   "outputs": [],
   "source": [
    "%load_ext autoreload\n",
    "%autoreload 2"
   ]
  },
  {
   "cell_type": "code",
   "execution_count": 59,
   "metadata": {},
   "outputs": [],
   "source": [
    "import pandas as pd\n",
    "import numpy as np\n",
    "import matplotlib.pyplot as plt\n",
    "from preprocessing import prepare_data\n",
    "from model_code import MH_regression, Gibbs_regression, running_mean"
   ]
  },
  {
   "cell_type": "code",
   "execution_count": 3,
   "metadata": {},
   "outputs": [],
   "source": [
    "df = pd.read_csv('../student/student-mat.csv', sep=\";\")\n",
    "features, target = prepare_data(df)"
   ]
  },
  {
   "cell_type": "code",
   "execution_count": null,
   "metadata": {},
   "outputs": [],
   "source": [
    "betas, sigmas = Gibbs_regression(features, target, B=20000)"
   ]
  },
  {
   "cell_type": "code",
   "execution_count": 71,
   "metadata": {},
   "outputs": [],
   "source": [
    "thinned_betas = betas[:,::10]\n",
    "results = pd.DataFrame(thinned_betas.T, columns = features.columns)"
   ]
  },
  {
   "cell_type": "code",
   "execution_count": 73,
   "metadata": {},
   "outputs": [
    {
     "data": {
      "text/html": [
       "<div>\n",
       "<style scoped>\n",
       "    .dataframe tbody tr th:only-of-type {\n",
       "        vertical-align: middle;\n",
       "    }\n",
       "\n",
       "    .dataframe tbody tr th {\n",
       "        vertical-align: top;\n",
       "    }\n",
       "\n",
       "    .dataframe thead th {\n",
       "        text-align: right;\n",
       "    }\n",
       "</style>\n",
       "<table border=\"1\" class=\"dataframe\">\n",
       "  <thead>\n",
       "    <tr style=\"text-align: right;\">\n",
       "      <th></th>\n",
       "      <th>intercept</th>\n",
       "      <th>age</th>\n",
       "      <th>sex_M</th>\n",
       "      <th>failures</th>\n",
       "      <th>higher_yes</th>\n",
       "      <th>Medu</th>\n",
       "      <th>absences</th>\n",
       "      <th>G2</th>\n",
       "    </tr>\n",
       "  </thead>\n",
       "  <tbody>\n",
       "    <tr>\n",
       "      <th>0.05</th>\n",
       "      <td>-2.159016</td>\n",
       "      <td>-0.256502</td>\n",
       "      <td>-0.04479</td>\n",
       "      <td>-0.481398</td>\n",
       "      <td>-0.521012</td>\n",
       "      <td>-0.153351</td>\n",
       "      <td>0.022140</td>\n",
       "      <td>1.029210</td>\n",
       "    </tr>\n",
       "    <tr>\n",
       "      <th>0.50</th>\n",
       "      <td>0.393709</td>\n",
       "      <td>-0.125329</td>\n",
       "      <td>0.28393</td>\n",
       "      <td>-0.244585</td>\n",
       "      <td>0.285962</td>\n",
       "      <td>-0.002195</td>\n",
       "      <td>0.041840</td>\n",
       "      <td>1.075219</td>\n",
       "    </tr>\n",
       "    <tr>\n",
       "      <th>0.95</th>\n",
       "      <td>2.963675</td>\n",
       "      <td>0.006193</td>\n",
       "      <td>0.61686</td>\n",
       "      <td>-0.003075</td>\n",
       "      <td>1.092803</td>\n",
       "      <td>0.153131</td>\n",
       "      <td>0.063359</td>\n",
       "      <td>1.120835</td>\n",
       "    </tr>\n",
       "  </tbody>\n",
       "</table>\n",
       "</div>"
      ],
      "text/plain": [
       "      intercept       age    sex_M  failures  higher_yes      Medu  absences  \\\n",
       "0.05  -2.159016 -0.256502 -0.04479 -0.481398   -0.521012 -0.153351  0.022140   \n",
       "0.50   0.393709 -0.125329  0.28393 -0.244585    0.285962 -0.002195  0.041840   \n",
       "0.95   2.963675  0.006193  0.61686 -0.003075    1.092803  0.153131  0.063359   \n",
       "\n",
       "            G2  \n",
       "0.05  1.029210  \n",
       "0.50  1.075219  \n",
       "0.95  1.120835  "
      ]
     },
     "execution_count": 73,
     "metadata": {},
     "output_type": "execute_result"
    }
   ],
   "source": [
    "quants = results.quantile((0.05, 0.5, 0.95))\n",
    "quants"
   ]
  },
  {
   "cell_type": "code",
   "execution_count": 75,
   "metadata": {},
   "outputs": [],
   "source": [
    "results.to_csv('base_model_beta_dists.csv', index=False)"
   ]
  },
  {
   "cell_type": "code",
   "execution_count": null,
   "metadata": {},
   "outputs": [],
   "source": []
  }
 ],
 "metadata": {
  "kernelspec": {
   "display_name": "Python [conda env:.conda-py3] *",
   "language": "python",
   "name": "conda-env-.conda-py3-py"
  },
  "language_info": {
   "codemirror_mode": {
    "name": "ipython",
    "version": 3
   },
   "file_extension": ".py",
   "mimetype": "text/x-python",
   "name": "python",
   "nbconvert_exporter": "python",
   "pygments_lexer": "ipython3",
   "version": "3.8.5"
  }
 },
 "nbformat": 4,
 "nbformat_minor": 4
}
