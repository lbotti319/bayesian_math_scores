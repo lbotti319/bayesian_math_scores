{
 "cells": [
  {
   "cell_type": "code",
   "execution_count": 1,
   "metadata": {},
   "outputs": [],
   "source": [
    "%load_ext autoreload\n",
    "%autoreload 2"
   ]
  },
  {
   "cell_type": "code",
   "execution_count": 2,
   "metadata": {},
   "outputs": [],
   "source": [
    "import numpy as np\n",
    "from scipy.stats import multivariate_normal as mvnorm\n",
    "from scipy.stats import uniform, invgamma, bernoulli, poisson, norm\n",
    "import statsmodels.api as sm\n",
    "import pandas as pd\n",
    "from src.preprocessing import prepare_data, prepare_data_no_standardizing, MAR_data_deletion\n",
    "from src.model_code import Gibbs_MH\n",
    "import pymc3 as pm\n",
    "import arviz as az\n",
    "from statsmodels.tsa.stattools import acf \n",
    "import matplotlib.pyplot as plt\n",
    "\n",
    "import warnings\n",
    "warnings.filterwarnings('ignore')\n",
    "warnings.simplefilter('ignore')"
   ]
  },
  {
   "cell_type": "code",
   "execution_count": null,
   "metadata": {},
   "outputs": [],
   "source": [
    "df = pd.read_csv('student-mat.csv', sep=\",\")\n",
    "features = [\"age\", \"sex\", \"failures\", \"higher\", \"Medu\", \n",
    "            \"absences\", \"G2\", \"G3\"]\n",
    "df = df[features]\n",
    "df.head()"
   ]
  },
  {
   "cell_type": "code",
   "execution_count": null,
   "metadata": {},
   "outputs": [],
   "source": [
    "X_df, y_df = prepare_data_no_standardizing(df)\n",
    "X_df.head()"
   ]
  },
  {
   "cell_type": "code",
   "execution_count": null,
   "metadata": {
    "scrolled": true
   },
   "outputs": [],
   "source": [
    "X_df_missing = MAR_data_deletion(X_df, 0.05, 0.05, 'higher_yes', 'G2')"
   ]
  },
  {
   "cell_type": "code",
   "execution_count": null,
   "metadata": {},
   "outputs": [],
   "source": [
    "X = X_df_missing\n",
    "y = y_df.to_numpy()\n",
    "B = 1000\n",
    "thin = 10"
   ]
  },
  {
   "cell_type": "code",
   "execution_count": null,
   "metadata": {},
   "outputs": [],
   "source": [
    "(betas, sigmas2, higher_yes_sim, G2_sim, alphas, gammas, etas) = Gibbs_MH(X, y, B, thin)"
   ]
  },
  {
   "cell_type": "code",
   "execution_count": null,
   "metadata": {},
   "outputs": [],
   "source": [
    "betas_df = pd.DataFrame(betas.T, columns=[f\"beta_{i}\" for i in X_df.columns])\n",
    "higher_yes_df = pd.DataFrame(higher_yes_sim.T, columns=[f\"missing_higher_yes_{i}\" for i in range(0, higher_yes_sim.shape[0])])\n",
    "G2_df = pd.DataFrame(G2_sim.T, columns=[f\"missing_G2_{i}\" for i in range(0, G2_sim.shape[0])])\n",
    "alphas_df = pd.DataFrame(alphas.T, columns=[f\"alpha_{i}\" for i in range(0, alphas.shape[0])])\n",
    "gammas_df = pd.DataFrame(gammas.T, columns=[f\"gamma_{i}\" for i in range(0, gammas.shape[0])])\n",
    "rest_df = pd.DataFrame({\"sigmas2\": sigmas2.T,\n",
    "                        \"eta2\": etas.T})"
   ]
  },
  {
   "cell_type": "code",
   "execution_count": null,
   "metadata": {},
   "outputs": [],
   "source": [
    "betas_df.shape"
   ]
  },
  {
   "cell_type": "code",
   "execution_count": null,
   "metadata": {},
   "outputs": [],
   "source": [
    "results = pd.concat([betas_df , higher_yes_df, G2_df, alphas_df, gammas_df, rest_df], axis=1) \n",
    "results.head()\n",
    "results.to_csv(\"results/03_results_not_thinned_(G2).csv\")"
   ]
  },
  {
   "cell_type": "code",
   "execution_count": null,
   "metadata": {},
   "outputs": [],
   "source": [
    "def MCMC_diagnostics(chain, param):\n",
    "    plt.subplot(411)\n",
    "    plt.plot(chain)\n",
    "    plt.title(f'Trace Plot {param}')\n",
    "\n",
    "    plt.subplot(412)\n",
    "    plt.hist(chain, bins=60)\n",
    "    plt.title(f'Histogram {param}')\n",
    "\n",
    "    plt.subplot(413)\n",
    "    gw_plot = pm.geweke(chain)\n",
    "    plt.scatter(gw_plot[:,0],gw_plot[:,1])\n",
    "    plt.axhline(-1.98, c='r')\n",
    "    plt.axhline(1.98, c='r')\n",
    "    \n",
    "    plt.ylim(-2.5,2.5)\n",
    "    plt.title(f'Geweke Plot Comparing first 10% and Slices of the Last 50% of Chain {param}')\n",
    "\n",
    "    plt.subplot(414)\n",
    "    acf_values = acf(chain)\n",
    "    plt.scatter(range(0, len(acf_values)), acf_values)\n",
    "    plt.title(f'ACF {param}')\n",
    "    \n",
    "    plt.tight_layout()\n",
    "    plt.show()"
   ]
  },
  {
   "cell_type": "code",
   "execution_count": null,
   "metadata": {
    "scrolled": true
   },
   "outputs": [],
   "source": [
    "for i, alpha in enumerate(alphas):\n",
    "    MCMC_diagnostics(alpha, f\"alpha_{i}\")"
   ]
  },
  {
   "cell_type": "code",
   "execution_count": null,
   "metadata": {},
   "outputs": [],
   "source": [
    "for i, gamma in enumerate(gammas):\n",
    "    MCMC_diagnostics(gamma, f\"gamma_{i}\")"
   ]
  },
  {
   "cell_type": "code",
   "execution_count": null,
   "metadata": {},
   "outputs": [],
   "source": [
    "MCMC_diagnostics(sigmas2, \"sigma2\")"
   ]
  },
  {
   "cell_type": "code",
   "execution_count": null,
   "metadata": {},
   "outputs": [],
   "source": [
    "MCMC_diagnostics(etas, \"eta2\")"
   ]
  },
  {
   "cell_type": "code",
   "execution_count": null,
   "metadata": {},
   "outputs": [],
   "source": [
    "for i, beta in enumerate(betas):\n",
    "    MCMC_diagnostics(beta, X_df.columns[i])"
   ]
  },
  {
   "cell_type": "code",
   "execution_count": null,
   "metadata": {},
   "outputs": [],
   "source": [
    "# thin\n",
    "\"\"\"betas_thin = betas[:, ::thin]\n",
    "higher_yes_sim_thin = higher_yes_sim[:, ::thin]\n",
    "absences_sim_thin = absences_sim[:, ::thin]\n",
    "alphas0_thin = alphas0[::thin]\n",
    "alphas1_thin = alphas1[::thin]\n",
    "gammas0_thin = gammas0[::thin]\n",
    "gammas1_thin = gammas1[::thin]\n",
    "sigmas2_thin = sigmas2[::thin]\"\"\""
   ]
  },
  {
   "cell_type": "code",
   "execution_count": null,
   "metadata": {},
   "outputs": [],
   "source": [
    "\"\"\"MCMC_diagnostics(alphas0_thin, \"alpha0\")\n",
    "MCMC_diagnostics(alphas1_thin, \"alpha1\")\n",
    "MCMC_diagnostics(gammas0_thin, \"gamma0\")\n",
    "MCMC_diagnostics(gammas1_thin, \"gamma1\")\"\"\""
   ]
  },
  {
   "cell_type": "code",
   "execution_count": null,
   "metadata": {
    "scrolled": true
   },
   "outputs": [],
   "source": [
    "plt.subplot(121)\n",
    "plt.hist(higher_yes_sim.flatten())\n",
    "plt.title(f'Simulated higher_yes')\n",
    "\n",
    "\n",
    "plt.subplot(122)\n",
    "plt.hist(X.loc[:, \"higher_yes\"])\n",
    "plt.title(f'Observed higher_yes')\n",
    "\n",
    "plt.show()"
   ]
  },
  {
   "cell_type": "code",
   "execution_count": null,
   "metadata": {},
   "outputs": [],
   "source": [
    "plt.subplot(121)\n",
    "plt.hist(G2_sim.flatten(), bins=30)\n",
    "plt.title(f'Simulated missing G2')\n",
    "\n",
    "plt.subplot(122)\n",
    "plt.hist(X.loc[:, \"G2\"], bins=30)\n",
    "plt.title(f'Observed G2')\n",
    "plt.show()\n",
    "\n"
   ]
  },
  {
   "cell_type": "markdown",
   "metadata": {},
   "source": [
    "# Generate multiple betas"
   ]
  },
  {
   "cell_type": "code",
   "execution_count": null,
   "metadata": {},
   "outputs": [],
   "source": [
    "y = y_df.to_numpy()\n",
    "B = 2000\n",
    "thin = 10\n",
    "for prop in [0.05, 0.1, 0.25, 0.5]:\n",
    "    X = MAR_data_deletion(X_df, prop, prop, 'higher_yes', 'G2')\n",
    "    (betas, sigmas2, higher_yes_sim, G2_sim, alphas, gammas, etas) = Gibbs_MH(X, y, B, thin)\n",
    "    results = pd.DataFrame(betas.T, columns = X_df.columns)\n",
    "    results.to_csv(f'results/03_dists_{prop}.csv', index=False)\n"
   ]
  },
  {
   "cell_type": "code",
   "execution_count": null,
   "metadata": {},
   "outputs": [],
   "source": []
  }
 ],
 "metadata": {
  "kernelspec": {
   "display_name": "Python [conda env:.conda-bayes]",
   "language": "python",
   "name": "conda-env-.conda-bayes-py"
  },
  "language_info": {
   "codemirror_mode": {
    "name": "ipython",
    "version": 3
   },
   "file_extension": ".py",
   "mimetype": "text/x-python",
   "name": "python",
   "nbconvert_exporter": "python",
   "pygments_lexer": "ipython3",
   "version": "3.9.4"
  }
 },
 "nbformat": 4,
 "nbformat_minor": 4
}
