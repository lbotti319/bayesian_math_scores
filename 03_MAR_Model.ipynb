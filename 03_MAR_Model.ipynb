{
 "cells": [
  {
   "cell_type": "code",
   "execution_count": 1,
   "metadata": {},
   "outputs": [],
   "source": [
    "%load_ext autoreload\n",
    "%autoreload 2"
   ]
  },
  {
   "cell_type": "code",
   "execution_count": 4,
   "metadata": {},
   "outputs": [
    {
     "ename": "AttributeError",
     "evalue": "module 'arviz' has no attribute 'geweke'",
     "output_type": "error",
     "traceback": [
      "\u001b[0;31m---------------------------------------------------------------------------\u001b[0m",
      "\u001b[0;31mAttributeError\u001b[0m                            Traceback (most recent call last)",
      "\u001b[0;32m<ipython-input-4-24aa8646e03c>\u001b[0m in \u001b[0;36m<module>\u001b[0;34m\u001b[0m\n\u001b[1;32m      6\u001b[0m \u001b[0;32mfrom\u001b[0m \u001b[0msrc\u001b[0m\u001b[0;34m.\u001b[0m\u001b[0mpreprocessing\u001b[0m \u001b[0;32mimport\u001b[0m \u001b[0mprepare_data\u001b[0m\u001b[0;34m,\u001b[0m \u001b[0mprepare_data_no_standardizing\u001b[0m\u001b[0;34m,\u001b[0m \u001b[0mMAR_data_deletion\u001b[0m\u001b[0;34m\u001b[0m\u001b[0;34m\u001b[0m\u001b[0m\n\u001b[1;32m      7\u001b[0m \u001b[0;32mfrom\u001b[0m \u001b[0msrc\u001b[0m\u001b[0;34m.\u001b[0m\u001b[0mmodel_code\u001b[0m \u001b[0;32mimport\u001b[0m \u001b[0mGibbs_MH\u001b[0m\u001b[0;34m\u001b[0m\u001b[0;34m\u001b[0m\u001b[0m\n\u001b[0;32m----> 8\u001b[0;31m \u001b[0;32mimport\u001b[0m \u001b[0mpymc3\u001b[0m \u001b[0;32mas\u001b[0m \u001b[0mpm\u001b[0m\u001b[0;34m\u001b[0m\u001b[0;34m\u001b[0m\u001b[0m\n\u001b[0m\u001b[1;32m      9\u001b[0m \u001b[0;32mimport\u001b[0m \u001b[0marviz\u001b[0m \u001b[0;32mas\u001b[0m \u001b[0maz\u001b[0m\u001b[0;34m\u001b[0m\u001b[0;34m\u001b[0m\u001b[0m\n\u001b[1;32m     10\u001b[0m \u001b[0;32mfrom\u001b[0m \u001b[0mstatsmodels\u001b[0m\u001b[0;34m.\u001b[0m\u001b[0mtsa\u001b[0m\u001b[0;34m.\u001b[0m\u001b[0mstattools\u001b[0m \u001b[0;32mimport\u001b[0m \u001b[0macf\u001b[0m\u001b[0;34m\u001b[0m\u001b[0;34m\u001b[0m\u001b[0m\n",
      "\u001b[0;32m~/opt/anaconda3/lib/python3.7/site-packages/pymc3/__init__.py\u001b[0m in \u001b[0;36m<module>\u001b[0;34m\u001b[0m\n\u001b[1;32m     11\u001b[0m \u001b[0;32mfrom\u001b[0m \u001b[0;34m.\u001b[0m\u001b[0mmodel_graph\u001b[0m \u001b[0;32mimport\u001b[0m \u001b[0mmodel_to_graphviz\u001b[0m\u001b[0;34m\u001b[0m\u001b[0;34m\u001b[0m\u001b[0m\n\u001b[1;32m     12\u001b[0m \u001b[0;32mfrom\u001b[0m \u001b[0;34m.\u001b[0m \u001b[0;32mimport\u001b[0m \u001b[0mode\u001b[0m\u001b[0;34m\u001b[0m\u001b[0;34m\u001b[0m\u001b[0m\n\u001b[0;32m---> 13\u001b[0;31m \u001b[0;32mfrom\u001b[0m \u001b[0;34m.\u001b[0m\u001b[0mstats\u001b[0m \u001b[0;32mimport\u001b[0m \u001b[0;34m*\u001b[0m\u001b[0;34m\u001b[0m\u001b[0;34m\u001b[0m\u001b[0m\n\u001b[0m\u001b[1;32m     14\u001b[0m \u001b[0;32mfrom\u001b[0m \u001b[0;34m.\u001b[0m\u001b[0msampling\u001b[0m \u001b[0;32mimport\u001b[0m \u001b[0;34m*\u001b[0m\u001b[0;34m\u001b[0m\u001b[0;34m\u001b[0m\u001b[0m\n\u001b[1;32m     15\u001b[0m \u001b[0;32mfrom\u001b[0m \u001b[0;34m.\u001b[0m\u001b[0mstep_methods\u001b[0m \u001b[0;32mimport\u001b[0m \u001b[0;34m*\u001b[0m\u001b[0;34m\u001b[0m\u001b[0;34m\u001b[0m\u001b[0m\n",
      "\u001b[0;32m~/opt/anaconda3/lib/python3.7/site-packages/pymc3/stats/__init__.py\u001b[0m in \u001b[0;36m<module>\u001b[0;34m\u001b[0m\n\u001b[1;32m     30\u001b[0m \u001b[0mcompare\u001b[0m \u001b[0;34m=\u001b[0m \u001b[0mmap_args\u001b[0m\u001b[0;34m(\u001b[0m\u001b[0maz\u001b[0m\u001b[0;34m.\u001b[0m\u001b[0mcompare\u001b[0m\u001b[0;34m)\u001b[0m\u001b[0;34m\u001b[0m\u001b[0;34m\u001b[0m\u001b[0m\n\u001b[1;32m     31\u001b[0m \u001b[0mess\u001b[0m \u001b[0;34m=\u001b[0m \u001b[0mmap_args\u001b[0m\u001b[0;34m(\u001b[0m\u001b[0maz\u001b[0m\u001b[0;34m.\u001b[0m\u001b[0mess\u001b[0m\u001b[0;34m)\u001b[0m\u001b[0;34m\u001b[0m\u001b[0;34m\u001b[0m\u001b[0m\n\u001b[0;32m---> 32\u001b[0;31m \u001b[0mgeweke\u001b[0m \u001b[0;34m=\u001b[0m \u001b[0mmap_args\u001b[0m\u001b[0;34m(\u001b[0m\u001b[0maz\u001b[0m\u001b[0;34m.\u001b[0m\u001b[0mgeweke\u001b[0m\u001b[0;34m)\u001b[0m\u001b[0;34m\u001b[0m\u001b[0;34m\u001b[0m\u001b[0m\n\u001b[0m\u001b[1;32m     33\u001b[0m \u001b[0mhpd\u001b[0m \u001b[0;34m=\u001b[0m \u001b[0mmap_args\u001b[0m\u001b[0;34m(\u001b[0m\u001b[0maz\u001b[0m\u001b[0;34m.\u001b[0m\u001b[0mhpd\u001b[0m\u001b[0;34m)\u001b[0m\u001b[0;34m\u001b[0m\u001b[0;34m\u001b[0m\u001b[0m\n\u001b[1;32m     34\u001b[0m \u001b[0mloo\u001b[0m \u001b[0;34m=\u001b[0m \u001b[0mmap_args\u001b[0m\u001b[0;34m(\u001b[0m\u001b[0maz\u001b[0m\u001b[0;34m.\u001b[0m\u001b[0mloo\u001b[0m\u001b[0;34m)\u001b[0m\u001b[0;34m\u001b[0m\u001b[0;34m\u001b[0m\u001b[0m\n",
      "\u001b[0;31mAttributeError\u001b[0m: module 'arviz' has no attribute 'geweke'"
     ]
    }
   ],
   "source": [
    "import numpy as np\n",
    "from scipy.stats import multivariate_normal as mvnorm\n",
    "from scipy.stats import uniform, invgamma, bernoulli, poisson, norm\n",
    "import statsmodels.api as sm\n",
    "import pandas as pd\n",
    "from src.preprocessing import prepare_data, prepare_data_no_standardizing, MAR_data_deletion\n",
    "from src.model_code import Gibbs_MH\n",
    "import pymc3 as pm\n",
    "import arviz as az\n",
    "from statsmodels.tsa.stattools import acf \n",
    "import matplotlib.pyplot as plt\n",
    "\n",
    "import warnings\n",
    "warnings.filterwarnings('ignore')\n",
    "warnings.simplefilter('ignore')"
   ]
  },
  {
   "cell_type": "code",
   "execution_count": 3,
   "metadata": {},
   "outputs": [
    {
     "data": {
      "text/html": [
       "<div>\n",
       "<style scoped>\n",
       "    .dataframe tbody tr th:only-of-type {\n",
       "        vertical-align: middle;\n",
       "    }\n",
       "\n",
       "    .dataframe tbody tr th {\n",
       "        vertical-align: top;\n",
       "    }\n",
       "\n",
       "    .dataframe thead th {\n",
       "        text-align: right;\n",
       "    }\n",
       "</style>\n",
       "<table border=\"1\" class=\"dataframe\">\n",
       "  <thead>\n",
       "    <tr style=\"text-align: right;\">\n",
       "      <th></th>\n",
       "      <th>age</th>\n",
       "      <th>sex</th>\n",
       "      <th>failures</th>\n",
       "      <th>higher</th>\n",
       "      <th>Medu</th>\n",
       "      <th>absences</th>\n",
       "      <th>G2</th>\n",
       "      <th>G3</th>\n",
       "    </tr>\n",
       "  </thead>\n",
       "  <tbody>\n",
       "    <tr>\n",
       "      <th>0</th>\n",
       "      <td>18</td>\n",
       "      <td>F</td>\n",
       "      <td>0</td>\n",
       "      <td>yes</td>\n",
       "      <td>4</td>\n",
       "      <td>6</td>\n",
       "      <td>6</td>\n",
       "      <td>6</td>\n",
       "    </tr>\n",
       "    <tr>\n",
       "      <th>1</th>\n",
       "      <td>17</td>\n",
       "      <td>F</td>\n",
       "      <td>0</td>\n",
       "      <td>yes</td>\n",
       "      <td>1</td>\n",
       "      <td>4</td>\n",
       "      <td>5</td>\n",
       "      <td>6</td>\n",
       "    </tr>\n",
       "    <tr>\n",
       "      <th>2</th>\n",
       "      <td>15</td>\n",
       "      <td>F</td>\n",
       "      <td>3</td>\n",
       "      <td>yes</td>\n",
       "      <td>1</td>\n",
       "      <td>10</td>\n",
       "      <td>8</td>\n",
       "      <td>10</td>\n",
       "    </tr>\n",
       "    <tr>\n",
       "      <th>3</th>\n",
       "      <td>15</td>\n",
       "      <td>F</td>\n",
       "      <td>0</td>\n",
       "      <td>yes</td>\n",
       "      <td>4</td>\n",
       "      <td>2</td>\n",
       "      <td>14</td>\n",
       "      <td>15</td>\n",
       "    </tr>\n",
       "    <tr>\n",
       "      <th>4</th>\n",
       "      <td>16</td>\n",
       "      <td>F</td>\n",
       "      <td>0</td>\n",
       "      <td>yes</td>\n",
       "      <td>3</td>\n",
       "      <td>4</td>\n",
       "      <td>10</td>\n",
       "      <td>10</td>\n",
       "    </tr>\n",
       "  </tbody>\n",
       "</table>\n",
       "</div>"
      ],
      "text/plain": [
       "   age sex  failures higher  Medu  absences  G2  G3\n",
       "0   18   F         0    yes     4         6   6   6\n",
       "1   17   F         0    yes     1         4   5   6\n",
       "2   15   F         3    yes     1        10   8  10\n",
       "3   15   F         0    yes     4         2  14  15\n",
       "4   16   F         0    yes     3         4  10  10"
      ]
     },
     "execution_count": 3,
     "metadata": {},
     "output_type": "execute_result"
    }
   ],
   "source": [
    "df = pd.read_csv('student-mat.csv', sep=\",\")\n",
    "features = [\"age\", \"sex\", \"failures\", \"higher\", \"Medu\", \n",
    "            \"absences\", \"G2\", \"G3\"]\n",
    "df = df[features]\n",
    "df.head()"
   ]
  },
  {
   "cell_type": "code",
   "execution_count": null,
   "metadata": {},
   "outputs": [],
   "source": [
    "X_df, y_df = prepare_data_no_standardizing(df)\n",
    "X_df.head()"
   ]
  },
  {
   "cell_type": "code",
   "execution_count": null,
   "metadata": {
    "scrolled": true
   },
   "outputs": [],
   "source": [
    "X_df_missing = MAR_data_deletion(X_df, 0.05, 0.05, 'higher_yes', 'absences')\n",
    "X_df_missing"
   ]
  },
  {
   "cell_type": "code",
   "execution_count": null,
   "metadata": {},
   "outputs": [],
   "source": [
    "X = X_df_missing.to_numpy()\n",
    "y = y_df.to_numpy()\n",
    "B = 5000\n",
    "n = len(y)\n",
    "higher_yes_col = 6\n",
    "absences_col = 3\n",
    "age_col = 0\n",
    "taus = [2.9, 0.9, 0.7, 1]# [3.5, 0.8, 0.7, 1]\n",
    "thin = 10"
   ]
  },
  {
   "cell_type": "code",
   "execution_count": null,
   "metadata": {},
   "outputs": [],
   "source": [
    "(betas, sigmas2, higher_yes_sim, absences_sim, alphas0, alphas1, gammas0, gammas1,\n",
    " accepts_alpha0, accepts_alpha1, accepts_gamma0, accepts_gamma1) = Gibbs_MH(X, y, B, n, higher_yes_col, absences_col, age_col, taus, thin)"
   ]
  },
  {
   "cell_type": "code",
   "execution_count": null,
   "metadata": {},
   "outputs": [],
   "source": [
    "print(accepts_alpha0/(2*B*thin), accepts_alpha1/(2*B*thin), accepts_gamma0/(2*B*thin), accepts_gamma1/(2*B*thin))"
   ]
  },
  {
   "cell_type": "code",
   "execution_count": null,
   "metadata": {},
   "outputs": [],
   "source": [
    "betas_df = pd.DataFrame(betas.T, columns=[f\"beta_{i}\" for i in X_df.columns])\n",
    "higher_yes_df = pd.DataFrame(higher_yes_sim.T, columns=[f\"missing_higher_yes_{i}\" for i in range(0, higher_yes_sim.shape[0])])\n",
    "absences_df = pd.DataFrame(absences_sim.T, columns=[f\"missing_absences_{i}\" for i in range(0, absences_sim.shape[0])])\n",
    "rest_df = pd.DataFrame({\"sigmas2\": sigmas2.T,\n",
    "              \"alpha0\": alphas0.T,\n",
    "              \"alphas1\": alphas1.T,\n",
    "              \"gammas0\": gammas0.T, \n",
    "              \"gammas1\": gammas1.T\n",
    "             })\n",
    "              \n",
    "results = pd.concat([betas_df , higher_yes_df, absences_df, rest_df], axis=1) \n",
    "results.head()\n",
    "results.to_csv(\"results/03_mar_not_thinned.csv\")\n",
    "              "
   ]
  },
  {
   "cell_type": "code",
   "execution_count": null,
   "metadata": {},
   "outputs": [],
   "source": [
    "def MCMC_diagnostics(chain, param):\n",
    "    plt.subplot(411)\n",
    "    plt.plot(chain)\n",
    "    plt.title(f'Trace Plot {param}')\n",
    "\n",
    "    plt.subplot(412)\n",
    "    plt.hist(chain, bins=60)\n",
    "    plt.title(f'Histogram {param}')\n",
    "\n",
    "    plt.subplot(413)\n",
    "    gw_plot = pm.geweke(chain)\n",
    "    plt.scatter(gw_plot[:,0],gw_plot[:,1])\n",
    "    plt.axhline(-1.98, c='r')\n",
    "    plt.axhline(1.98, c='r')\n",
    "    \n",
    "    plt.ylim(-2.5,2.5)\n",
    "    plt.title(f'Geweke Plot Comparing first 10% and Slices of the Last 50% of Chain {param}')\n",
    "\n",
    "    plt.subplot(414)\n",
    "    acf_values = acf(chain)\n",
    "    plt.scatter(range(0, len(acf_values)), acf_values)\n",
    "    plt.title(f'ACF {param}')\n",
    "    \n",
    "    plt.tight_layout()\n",
    "    plt.show()"
   ]
  },
  {
   "cell_type": "code",
   "execution_count": null,
   "metadata": {
    "scrolled": true
   },
   "outputs": [],
   "source": [
    "MCMC_diagnostics(alphas0, \"alpha0\") # need to thin alphas and gammas"
   ]
  },
  {
   "cell_type": "code",
   "execution_count": null,
   "metadata": {
    "scrolled": true
   },
   "outputs": [],
   "source": [
    "MCMC_diagnostics(alphas1, 'alpha1')"
   ]
  },
  {
   "cell_type": "code",
   "execution_count": null,
   "metadata": {},
   "outputs": [],
   "source": [
    "MCMC_diagnostics(gammas0, \"gamma0\")"
   ]
  },
  {
   "cell_type": "code",
   "execution_count": null,
   "metadata": {
    "scrolled": true
   },
   "outputs": [],
   "source": [
    "MCMC_diagnostics(gammas1, \"gamma1\")"
   ]
  },
  {
   "cell_type": "code",
   "execution_count": null,
   "metadata": {},
   "outputs": [],
   "source": [
    "MCMC_diagnostics(sigmas2, \"sigma2\")"
   ]
  },
  {
   "cell_type": "code",
   "execution_count": null,
   "metadata": {},
   "outputs": [],
   "source": [
    "for i, beta in enumerate(betas):\n",
    "    MCMC_diagnostics(beta, X_df.columns[i])"
   ]
  },
  {
   "cell_type": "code",
   "execution_count": null,
   "metadata": {},
   "outputs": [],
   "source": [
    "# thin\n",
    "betas_thin = betas[:, ::thin]\n",
    "higher_yes_sim_thin = higher_yes_sim[:, ::thin]\n",
    "absences_sim_thin = absences_sim[:, ::thin]\n",
    "alphas0_thin = alphas0[::thin]\n",
    "alphas1_thin = alphas1[::thin]\n",
    "gammas0_thin = gammas0[::thin]\n",
    "gammas1_thin = gammas1[::thin]\n",
    "sigmas2_thin = sigmas2[::thin]"
   ]
  },
  {
   "cell_type": "code",
   "execution_count": null,
   "metadata": {},
   "outputs": [],
   "source": [
    "MCMC_diagnostics(alphas0_thin, \"alpha0\")\n",
    "MCMC_diagnostics(alphas1_thin, \"alpha1\")\n",
    "MCMC_diagnostics(gammas0_thin, \"gamma0\")\n",
    "MCMC_diagnostics(gammas1_thin, \"gamma1\")"
   ]
  },
  {
   "cell_type": "code",
   "execution_count": null,
   "metadata": {
    "scrolled": true
   },
   "outputs": [],
   "source": [
    "plt.subplot(121)\n",
    "plt.hist(higher_yes_sim.flatten())\n",
    "plt.title(f'Simulated missing absences')\n",
    "\n",
    "\n",
    "plt.subplot(122)\n",
    "plt.hist(X[:, higher_yes_col])\n",
    "plt.title(f'Observed absences')\n",
    "\n",
    "plt.show()"
   ]
  },
  {
   "cell_type": "code",
   "execution_count": null,
   "metadata": {},
   "outputs": [],
   "source": [
    "plt.subplot(121)\n",
    "plt.hist(absences_sim.flatten(), bins=30)\n",
    "plt.title(f'Simulated missing higher_yes')\n",
    "\n",
    "plt.subplot(122)\n",
    "plt.hist(X[:, absences_col], bins=30)\n",
    "plt.title(f'Observed higher_yes')\n",
    "plt.show()\n",
    "\n"
   ]
  },
  {
   "cell_type": "code",
   "execution_count": null,
   "metadata": {},
   "outputs": [],
   "source": [
    "betas_df_thinned = pd.DataFrame(betas_thin.T, columns=[f\"beta_{i}\" for i in X_df.columns])\n",
    "higher_yes_df_thinned = pd.DataFrame(higher_yes_sim_thin.T, columns=[f\"missing_higher_yes_{i}\" for i in range(0, higher_yes_sim.shape[0])])\n",
    "absences_df_thinned = pd.DataFrame(absences_sim_thin.T, columns=[f\"missing_absences_{i}\" for i in range(0, absences_sim.shape[0])])\n",
    "rest_df_thinned = pd.DataFrame({\"sigmas2\": sigmas2_thin.T,\n",
    "              \"alpha0\": alphas0_thin.T,\n",
    "              \"alphas1\": alphas1_thin.T,\n",
    "              \"gammas0\": gammas0_thin.T, \n",
    "              \"gammas1\": gammas1_thin.T\n",
    "             })\n",
    "              \n",
    "results_thinned = pd.concat([betas_df_thinned, higher_yes_df_thinned, absences_df_thinned, rest_df_thinned], axis=1) \n",
    "results_thinned.to_csv(\"results/03_mar_thinned.csv\")\n",
    "              "
   ]
  },
  {
   "cell_type": "code",
   "execution_count": null,
   "metadata": {},
   "outputs": [],
   "source": []
  }
 ],
 "metadata": {
  "kernelspec": {
   "display_name": "Python 3",
   "language": "python",
   "name": "python3"
  },
  "language_info": {
   "codemirror_mode": {
    "name": "ipython",
    "version": 3
   },
   "file_extension": ".py",
   "mimetype": "text/x-python",
   "name": "python",
   "nbconvert_exporter": "python",
   "pygments_lexer": "ipython3",
   "version": "3.7.10"
  }
 },
 "nbformat": 4,
 "nbformat_minor": 4
}
